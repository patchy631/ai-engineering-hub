{
  "cells": [
    {
      "cell_type": "markdown",
      "metadata": {
        "id": "rb2YNauEolVH"
      },
      "source": [
        "## Setup\n",
        "\n",
        "Set up your OpenAI API key and `nest_asyncio`."
      ]
    },
    {
      "cell_type": "code",
      "execution_count": 1,
      "metadata": {
        "id": "V7JxXNYvolVJ"
      },
      "outputs": [],
      "source": [
        "import os\n",
        "os.environ[\"OPENAI_API_KEY\"]=\"openai_api_key\"\n",
        "os.environ[\"LLAMA_INDEX_API_KEY\"]=\"llama_index_api_key\""
      ]
    },
    {
      "cell_type": "code",
      "execution_count": 2,
      "metadata": {
        "id": "hInrhvZvolVL"
      },
      "outputs": [],
      "source": [
        "import nest_asyncio\n",
        "\n",
        "nest_asyncio.apply()"
      ]
    },
    {
      "cell_type": "markdown",
      "metadata": {
        "id": "KWikt--1olVM"
      },
      "source": [
        "## SQL Database\n",
        "\n",
        "The SQL database in this example will be created in memory and will contain three columns: the city name, the city's population, and the state the city is located in. The table creation and the information for each city is shown in the snippets below."
      ]
    },
    {
      "cell_type": "code",
      "execution_count": 3,
      "metadata": {
        "colab": {
          "base_uri": "https://localhost:8080/"
        },
        "collapsed": true,
        "id": "ihsrwgLDsVC7",
        "outputId": "fa2df15a-48e2-4878-93ac-a743f9f55aa2"
      },
      "outputs": [
        {
          "name": "stdout",
          "output_type": "stream",
          "text": [
            "Collecting llama-index\n",
            "  Downloading llama_index-0.12.23-py3-none-any.whl.metadata (12 kB)\n",
            "Collecting llama-index-agent-openai<0.5.0,>=0.4.0 (from llama-index)\n",
            "  Downloading llama_index_agent_openai-0.4.6-py3-none-any.whl.metadata (727 bytes)\n",
            "Collecting llama-index-cli<0.5.0,>=0.4.1 (from llama-index)\n",
            "  Downloading llama_index_cli-0.4.1-py3-none-any.whl.metadata (1.5 kB)\n",
            "Collecting llama-index-core<0.13.0,>=0.12.23 (from llama-index)\n",
            "  Downloading llama_index_core-0.12.23.post2-py3-none-any.whl.metadata (2.5 kB)\n",
            "Collecting llama-index-embeddings-openai<0.4.0,>=0.3.0 (from llama-index)\n",
            "  Downloading llama_index_embeddings_openai-0.3.1-py3-none-any.whl.metadata (684 bytes)\n",
            "Collecting llama-index-indices-managed-llama-cloud>=0.4.0 (from llama-index)\n",
            "  Downloading llama_index_indices_managed_llama_cloud-0.6.8-py3-none-any.whl.metadata (3.6 kB)\n",
            "Collecting llama-index-llms-openai<0.4.0,>=0.3.0 (from llama-index)\n",
            "  Downloading llama_index_llms_openai-0.3.25-py3-none-any.whl.metadata (3.3 kB)\n",
            "Collecting llama-index-multi-modal-llms-openai<0.5.0,>=0.4.0 (from llama-index)\n",
            "  Downloading llama_index_multi_modal_llms_openai-0.4.3-py3-none-any.whl.metadata (726 bytes)\n",
            "Collecting llama-index-program-openai<0.4.0,>=0.3.0 (from llama-index)\n",
            "  Downloading llama_index_program_openai-0.3.1-py3-none-any.whl.metadata (764 bytes)\n",
            "Collecting llama-index-question-gen-openai<0.4.0,>=0.3.0 (from llama-index)\n",
            "  Downloading llama_index_question_gen_openai-0.3.0-py3-none-any.whl.metadata (783 bytes)\n",
            "Collecting llama-index-readers-file<0.5.0,>=0.4.0 (from llama-index)\n",
            "  Downloading llama_index_readers_file-0.4.6-py3-none-any.whl.metadata (5.4 kB)\n",
            "Collecting llama-index-readers-llama-parse>=0.4.0 (from llama-index)\n",
            "  Downloading llama_index_readers_llama_parse-0.4.0-py3-none-any.whl.metadata (3.6 kB)\n",
            "Requirement already satisfied: nltk>3.8.1 in /usr/local/lib/python3.11/dist-packages (from llama-index) (3.9.1)\n",
            "Requirement already satisfied: openai>=1.14.0 in /usr/local/lib/python3.11/dist-packages (from llama-index-agent-openai<0.5.0,>=0.4.0->llama-index) (1.61.1)\n",
            "Requirement already satisfied: PyYAML>=6.0.1 in /usr/local/lib/python3.11/dist-packages (from llama-index-core<0.13.0,>=0.12.23->llama-index) (6.0.2)\n",
            "Requirement already satisfied: SQLAlchemy>=1.4.49 in /usr/local/lib/python3.11/dist-packages (from SQLAlchemy[asyncio]>=1.4.49->llama-index-core<0.13.0,>=0.12.23->llama-index) (2.0.38)\n",
            "Requirement already satisfied: aiohttp<4.0.0,>=3.8.6 in /usr/local/lib/python3.11/dist-packages (from llama-index-core<0.13.0,>=0.12.23->llama-index) (3.11.13)\n",
            "Collecting dataclasses-json (from llama-index-core<0.13.0,>=0.12.23->llama-index)\n",
            "  Downloading dataclasses_json-0.6.7-py3-none-any.whl.metadata (25 kB)\n",
            "Requirement already satisfied: deprecated>=1.2.9.3 in /usr/local/lib/python3.11/dist-packages (from llama-index-core<0.13.0,>=0.12.23->llama-index) (1.2.18)\n",
            "Collecting dirtyjson<2.0.0,>=1.0.8 (from llama-index-core<0.13.0,>=0.12.23->llama-index)\n",
            "  Downloading dirtyjson-1.0.8-py3-none-any.whl.metadata (11 kB)\n",
            "Collecting filetype<2.0.0,>=1.2.0 (from llama-index-core<0.13.0,>=0.12.23->llama-index)\n",
            "  Downloading filetype-1.2.0-py2.py3-none-any.whl.metadata (6.5 kB)\n",
            "Requirement already satisfied: fsspec>=2023.5.0 in /usr/local/lib/python3.11/dist-packages (from llama-index-core<0.13.0,>=0.12.23->llama-index) (2024.10.0)\n",
            "Requirement already satisfied: httpx in /usr/local/lib/python3.11/dist-packages (from llama-index-core<0.13.0,>=0.12.23->llama-index) (0.28.1)\n",
            "Requirement already satisfied: nest-asyncio<2.0.0,>=1.5.8 in /usr/local/lib/python3.11/dist-packages (from llama-index-core<0.13.0,>=0.12.23->llama-index) (1.6.0)\n",
            "Requirement already satisfied: networkx>=3.0 in /usr/local/lib/python3.11/dist-packages (from llama-index-core<0.13.0,>=0.12.23->llama-index) (3.4.2)\n",
            "Requirement already satisfied: numpy in /usr/local/lib/python3.11/dist-packages (from llama-index-core<0.13.0,>=0.12.23->llama-index) (1.26.4)\n",
            "Requirement already satisfied: pillow>=9.0.0 in /usr/local/lib/python3.11/dist-packages (from llama-index-core<0.13.0,>=0.12.23->llama-index) (11.1.0)\n",
            "Requirement already satisfied: pydantic>=2.8.0 in /usr/local/lib/python3.11/dist-packages (from llama-index-core<0.13.0,>=0.12.23->llama-index) (2.10.6)\n",
            "Requirement already satisfied: requests>=2.31.0 in /usr/local/lib/python3.11/dist-packages (from llama-index-core<0.13.0,>=0.12.23->llama-index) (2.32.3)\n",
            "Requirement already satisfied: tenacity!=8.4.0,<10.0.0,>=8.2.0 in /usr/local/lib/python3.11/dist-packages (from llama-index-core<0.13.0,>=0.12.23->llama-index) (9.0.0)\n",
            "Collecting tiktoken>=0.3.3 (from llama-index-core<0.13.0,>=0.12.23->llama-index)\n",
            "  Downloading tiktoken-0.9.0-cp311-cp311-manylinux_2_17_x86_64.manylinux2014_x86_64.whl.metadata (6.7 kB)\n",
            "Requirement already satisfied: tqdm<5.0.0,>=4.66.1 in /usr/local/lib/python3.11/dist-packages (from llama-index-core<0.13.0,>=0.12.23->llama-index) (4.67.1)\n",
            "Requirement already satisfied: typing-extensions>=4.5.0 in /usr/local/lib/python3.11/dist-packages (from llama-index-core<0.13.0,>=0.12.23->llama-index) (4.12.2)\n",
            "Collecting typing-inspect>=0.8.0 (from llama-index-core<0.13.0,>=0.12.23->llama-index)\n",
            "  Downloading typing_inspect-0.9.0-py3-none-any.whl.metadata (1.5 kB)\n",
            "Requirement already satisfied: wrapt in /usr/local/lib/python3.11/dist-packages (from llama-index-core<0.13.0,>=0.12.23->llama-index) (1.17.2)\n",
            "Collecting llama-cloud<0.2.0,>=0.1.13 (from llama-index-indices-managed-llama-cloud>=0.4.0->llama-index)\n",
            "  Downloading llama_cloud-0.1.14-py3-none-any.whl.metadata (902 bytes)\n",
            "Requirement already satisfied: beautifulsoup4<5.0.0,>=4.12.3 in /usr/local/lib/python3.11/dist-packages (from llama-index-readers-file<0.5.0,>=0.4.0->llama-index) (4.13.3)\n",
            "Requirement already satisfied: pandas in /usr/local/lib/python3.11/dist-packages (from llama-index-readers-file<0.5.0,>=0.4.0->llama-index) (2.2.2)\n",
            "Collecting pypdf<6.0.0,>=5.1.0 (from llama-index-readers-file<0.5.0,>=0.4.0->llama-index)\n",
            "  Downloading pypdf-5.3.1-py3-none-any.whl.metadata (7.3 kB)\n",
            "Collecting striprtf<0.0.27,>=0.0.26 (from llama-index-readers-file<0.5.0,>=0.4.0->llama-index)\n",
            "  Downloading striprtf-0.0.26-py3-none-any.whl.metadata (2.1 kB)\n",
            "Collecting llama-parse>=0.5.0 (from llama-index-readers-llama-parse>=0.4.0->llama-index)\n",
            "  Downloading llama_parse-0.6.4.post1-py3-none-any.whl.metadata (6.9 kB)\n",
            "Requirement already satisfied: click in /usr/local/lib/python3.11/dist-packages (from nltk>3.8.1->llama-index) (8.1.8)\n",
            "Requirement already satisfied: joblib in /usr/local/lib/python3.11/dist-packages (from nltk>3.8.1->llama-index) (1.4.2)\n",
            "Requirement already satisfied: regex>=2021.8.3 in /usr/local/lib/python3.11/dist-packages (from nltk>3.8.1->llama-index) (2024.11.6)\n",
            "Requirement already satisfied: aiohappyeyeballs>=2.3.0 in /usr/local/lib/python3.11/dist-packages (from aiohttp<4.0.0,>=3.8.6->llama-index-core<0.13.0,>=0.12.23->llama-index) (2.5.0)\n",
            "Requirement already satisfied: aiosignal>=1.1.2 in /usr/local/lib/python3.11/dist-packages (from aiohttp<4.0.0,>=3.8.6->llama-index-core<0.13.0,>=0.12.23->llama-index) (1.3.2)\n",
            "Requirement already satisfied: attrs>=17.3.0 in /usr/local/lib/python3.11/dist-packages (from aiohttp<4.0.0,>=3.8.6->llama-index-core<0.13.0,>=0.12.23->llama-index) (25.1.0)\n",
            "Requirement already satisfied: frozenlist>=1.1.1 in /usr/local/lib/python3.11/dist-packages (from aiohttp<4.0.0,>=3.8.6->llama-index-core<0.13.0,>=0.12.23->llama-index) (1.5.0)\n",
            "Requirement already satisfied: multidict<7.0,>=4.5 in /usr/local/lib/python3.11/dist-packages (from aiohttp<4.0.0,>=3.8.6->llama-index-core<0.13.0,>=0.12.23->llama-index) (6.1.0)\n",
            "Requirement already satisfied: propcache>=0.2.0 in /usr/local/lib/python3.11/dist-packages (from aiohttp<4.0.0,>=3.8.6->llama-index-core<0.13.0,>=0.12.23->llama-index) (0.3.0)\n",
            "Requirement already satisfied: yarl<2.0,>=1.17.0 in /usr/local/lib/python3.11/dist-packages (from aiohttp<4.0.0,>=3.8.6->llama-index-core<0.13.0,>=0.12.23->llama-index) (1.18.3)\n",
            "Requirement already satisfied: soupsieve>1.2 in /usr/local/lib/python3.11/dist-packages (from beautifulsoup4<5.0.0,>=4.12.3->llama-index-readers-file<0.5.0,>=0.4.0->llama-index) (2.6)\n",
            "Requirement already satisfied: certifi>=2024.7.4 in /usr/local/lib/python3.11/dist-packages (from llama-cloud<0.2.0,>=0.1.13->llama-index-indices-managed-llama-cloud>=0.4.0->llama-index) (2025.1.31)\n",
            "Requirement already satisfied: anyio in /usr/local/lib/python3.11/dist-packages (from httpx->llama-index-core<0.13.0,>=0.12.23->llama-index) (3.7.1)\n",
            "Requirement already satisfied: httpcore==1.* in /usr/local/lib/python3.11/dist-packages (from httpx->llama-index-core<0.13.0,>=0.12.23->llama-index) (1.0.7)\n",
            "Requirement already satisfied: idna in /usr/local/lib/python3.11/dist-packages (from httpx->llama-index-core<0.13.0,>=0.12.23->llama-index) (3.10)\n",
            "Requirement already satisfied: h11<0.15,>=0.13 in /usr/local/lib/python3.11/dist-packages (from httpcore==1.*->httpx->llama-index-core<0.13.0,>=0.12.23->llama-index) (0.14.0)\n",
            "Collecting llama-cloud-services>=0.6.4 (from llama-parse>=0.5.0->llama-index-readers-llama-parse>=0.4.0->llama-index)\n",
            "  Downloading llama_cloud_services-0.6.5-py3-none-any.whl.metadata (2.9 kB)\n",
            "Requirement already satisfied: distro<2,>=1.7.0 in /usr/local/lib/python3.11/dist-packages (from openai>=1.14.0->llama-index-agent-openai<0.5.0,>=0.4.0->llama-index) (1.9.0)\n",
            "Requirement already satisfied: jiter<1,>=0.4.0 in /usr/local/lib/python3.11/dist-packages (from openai>=1.14.0->llama-index-agent-openai<0.5.0,>=0.4.0->llama-index) (0.8.2)\n",
            "Requirement already satisfied: sniffio in /usr/local/lib/python3.11/dist-packages (from openai>=1.14.0->llama-index-agent-openai<0.5.0,>=0.4.0->llama-index) (1.3.1)\n",
            "Requirement already satisfied: annotated-types>=0.6.0 in /usr/local/lib/python3.11/dist-packages (from pydantic>=2.8.0->llama-index-core<0.13.0,>=0.12.23->llama-index) (0.7.0)\n",
            "Requirement already satisfied: pydantic-core==2.27.2 in /usr/local/lib/python3.11/dist-packages (from pydantic>=2.8.0->llama-index-core<0.13.0,>=0.12.23->llama-index) (2.27.2)\n",
            "Requirement already satisfied: charset-normalizer<4,>=2 in /usr/local/lib/python3.11/dist-packages (from requests>=2.31.0->llama-index-core<0.13.0,>=0.12.23->llama-index) (3.4.1)\n",
            "Requirement already satisfied: urllib3<3,>=1.21.1 in /usr/local/lib/python3.11/dist-packages (from requests>=2.31.0->llama-index-core<0.13.0,>=0.12.23->llama-index) (2.3.0)\n",
            "Requirement already satisfied: greenlet!=0.4.17 in /usr/local/lib/python3.11/dist-packages (from SQLAlchemy>=1.4.49->SQLAlchemy[asyncio]>=1.4.49->llama-index-core<0.13.0,>=0.12.23->llama-index) (3.1.1)\n",
            "Collecting mypy-extensions>=0.3.0 (from typing-inspect>=0.8.0->llama-index-core<0.13.0,>=0.12.23->llama-index)\n",
            "  Downloading mypy_extensions-1.0.0-py3-none-any.whl.metadata (1.1 kB)\n",
            "Collecting marshmallow<4.0.0,>=3.18.0 (from dataclasses-json->llama-index-core<0.13.0,>=0.12.23->llama-index)\n",
            "  Downloading marshmallow-3.26.1-py3-none-any.whl.metadata (7.3 kB)\n",
            "Requirement already satisfied: python-dateutil>=2.8.2 in /usr/local/lib/python3.11/dist-packages (from pandas->llama-index-readers-file<0.5.0,>=0.4.0->llama-index) (2.8.2)\n",
            "Requirement already satisfied: pytz>=2020.1 in /usr/local/lib/python3.11/dist-packages (from pandas->llama-index-readers-file<0.5.0,>=0.4.0->llama-index) (2025.1)\n",
            "Requirement already satisfied: tzdata>=2022.7 in /usr/local/lib/python3.11/dist-packages (from pandas->llama-index-readers-file<0.5.0,>=0.4.0->llama-index) (2025.1)\n",
            "Collecting python-dotenv<2.0.0,>=1.0.1 (from llama-cloud-services>=0.6.4->llama-parse>=0.5.0->llama-index-readers-llama-parse>=0.4.0->llama-index)\n",
            "  Downloading python_dotenv-1.0.1-py3-none-any.whl.metadata (23 kB)\n",
            "Requirement already satisfied: packaging>=17.0 in /usr/local/lib/python3.11/dist-packages (from marshmallow<4.0.0,>=3.18.0->dataclasses-json->llama-index-core<0.13.0,>=0.12.23->llama-index) (24.2)\n",
            "Requirement already satisfied: six>=1.5 in /usr/local/lib/python3.11/dist-packages (from python-dateutil>=2.8.2->pandas->llama-index-readers-file<0.5.0,>=0.4.0->llama-index) (1.17.0)\n",
            "Downloading llama_index-0.12.23-py3-none-any.whl (7.0 kB)\n",
            "Downloading llama_index_agent_openai-0.4.6-py3-none-any.whl (13 kB)\n",
            "Downloading llama_index_cli-0.4.1-py3-none-any.whl (28 kB)\n",
            "Downloading llama_index_core-0.12.23.post2-py3-none-any.whl (1.6 MB)\n",
            "\u001b[2K   \u001b[90m━━━━━━━━━━━━━━━━━━━━━━━━━━━━━━━━━━━━━━━━\u001b[0m \u001b[32m1.6/1.6 MB\u001b[0m \u001b[31m37.3 MB/s\u001b[0m eta \u001b[36m0:00:00\u001b[0m\n",
            "\u001b[?25hDownloading llama_index_embeddings_openai-0.3.1-py3-none-any.whl (6.2 kB)\n",
            "Downloading llama_index_indices_managed_llama_cloud-0.6.8-py3-none-any.whl (13 kB)\n",
            "Downloading llama_index_llms_openai-0.3.25-py3-none-any.whl (16 kB)\n",
            "Downloading llama_index_multi_modal_llms_openai-0.4.3-py3-none-any.whl (5.9 kB)\n",
            "Downloading llama_index_program_openai-0.3.1-py3-none-any.whl (5.3 kB)\n",
            "Downloading llama_index_question_gen_openai-0.3.0-py3-none-any.whl (2.9 kB)\n",
            "Downloading llama_index_readers_file-0.4.6-py3-none-any.whl (40 kB)\n",
            "\u001b[2K   \u001b[90m━━━━━━━━━━━━━━━━━━━━━━━━━━━━━━━━━━━━━━━━\u001b[0m \u001b[32m40.4/40.4 kB\u001b[0m \u001b[31m2.6 MB/s\u001b[0m eta \u001b[36m0:00:00\u001b[0m\n",
            "\u001b[?25hDownloading llama_index_readers_llama_parse-0.4.0-py3-none-any.whl (2.5 kB)\n",
            "Downloading dirtyjson-1.0.8-py3-none-any.whl (25 kB)\n",
            "Downloading filetype-1.2.0-py2.py3-none-any.whl (19 kB)\n",
            "Downloading llama_cloud-0.1.14-py3-none-any.whl (261 kB)\n",
            "\u001b[2K   \u001b[90m━━━━━━━━━━━━━━━━━━━━━━━━━━━━━━━━━━━━━━━━\u001b[0m \u001b[32m261.7/261.7 kB\u001b[0m \u001b[31m18.3 MB/s\u001b[0m eta \u001b[36m0:00:00\u001b[0m\n",
            "\u001b[?25hDownloading llama_parse-0.6.4.post1-py3-none-any.whl (4.9 kB)\n",
            "Downloading pypdf-5.3.1-py3-none-any.whl (302 kB)\n",
            "\u001b[2K   \u001b[90m━━━━━━━━━━━━━━━━━━━━━━━━━━━━━━━━━━━━━━━━\u001b[0m \u001b[32m302.0/302.0 kB\u001b[0m \u001b[31m16.2 MB/s\u001b[0m eta \u001b[36m0:00:00\u001b[0m\n",
            "\u001b[?25hDownloading striprtf-0.0.26-py3-none-any.whl (6.9 kB)\n",
            "Downloading tiktoken-0.9.0-cp311-cp311-manylinux_2_17_x86_64.manylinux2014_x86_64.whl (1.2 MB)\n",
            "\u001b[2K   \u001b[90m━━━━━━━━━━━━━━━━━━━━━━━━━━━━━━━━━━━━━━━━\u001b[0m \u001b[32m1.2/1.2 MB\u001b[0m \u001b[31m47.0 MB/s\u001b[0m eta \u001b[36m0:00:00\u001b[0m\n",
            "\u001b[?25hDownloading typing_inspect-0.9.0-py3-none-any.whl (8.8 kB)\n",
            "Downloading dataclasses_json-0.6.7-py3-none-any.whl (28 kB)\n",
            "Downloading llama_cloud_services-0.6.5-py3-none-any.whl (28 kB)\n",
            "Downloading marshmallow-3.26.1-py3-none-any.whl (50 kB)\n",
            "\u001b[2K   \u001b[90m━━━━━━━━━━━━━━━━━━━━━━━━━━━━━━━━━━━━━━━━\u001b[0m \u001b[32m50.9/50.9 kB\u001b[0m \u001b[31m3.6 MB/s\u001b[0m eta \u001b[36m0:00:00\u001b[0m\n",
            "\u001b[?25hDownloading mypy_extensions-1.0.0-py3-none-any.whl (4.7 kB)\n",
            "Downloading python_dotenv-1.0.1-py3-none-any.whl (19 kB)\n",
            "Installing collected packages: striprtf, filetype, dirtyjson, python-dotenv, pypdf, mypy-extensions, marshmallow, typing-inspect, tiktoken, llama-cloud, dataclasses-json, llama-index-core, llama-index-readers-file, llama-index-llms-openai, llama-index-indices-managed-llama-cloud, llama-index-embeddings-openai, llama-cloud-services, llama-parse, llama-index-multi-modal-llms-openai, llama-index-cli, llama-index-agent-openai, llama-index-readers-llama-parse, llama-index-program-openai, llama-index-question-gen-openai, llama-index\n",
            "Successfully installed dataclasses-json-0.6.7 dirtyjson-1.0.8 filetype-1.2.0 llama-cloud-0.1.14 llama-cloud-services-0.6.5 llama-index-0.12.23 llama-index-agent-openai-0.4.6 llama-index-cli-0.4.1 llama-index-core-0.12.23.post2 llama-index-embeddings-openai-0.3.1 llama-index-indices-managed-llama-cloud-0.6.8 llama-index-llms-openai-0.3.25 llama-index-multi-modal-llms-openai-0.4.3 llama-index-program-openai-0.3.1 llama-index-question-gen-openai-0.3.0 llama-index-readers-file-0.4.6 llama-index-readers-llama-parse-0.4.0 llama-parse-0.6.4.post1 marshmallow-3.26.1 mypy-extensions-1.0.0 pypdf-5.3.1 python-dotenv-1.0.1 striprtf-0.0.26 tiktoken-0.9.0 typing-inspect-0.9.0\n"
          ]
        }
      ],
      "source": [
        "!pip install llama-index\n"
      ]
    },
    {
      "cell_type": "code",
      "execution_count": 4,
      "metadata": {
        "colab": {
          "base_uri": "https://localhost:8080/"
        },
        "collapsed": true,
        "id": "22DXGokLs3A5",
        "outputId": "e81bb3ac-8b02-48ea-96ef-79f411cec066"
      },
      "outputs": [
        {
          "name": "stdout",
          "output_type": "stream",
          "text": [
            "Collecting llama-index-llms-anthropic\n",
            "  Downloading llama_index_llms_anthropic-0.6.10-py3-none-any.whl.metadata (5.8 kB)\n",
            "Collecting anthropic>=0.49.0 (from anthropic[bedrock,vertex]>=0.49.0->llama-index-llms-anthropic)\n",
            "  Downloading anthropic-0.49.0-py3-none-any.whl.metadata (24 kB)\n",
            "Requirement already satisfied: llama-index-core<0.13.0,>=0.12.5 in /usr/local/lib/python3.11/dist-packages (from llama-index-llms-anthropic) (0.12.23.post2)\n",
            "Requirement already satisfied: anyio<5,>=3.5.0 in /usr/local/lib/python3.11/dist-packages (from anthropic>=0.49.0->anthropic[bedrock,vertex]>=0.49.0->llama-index-llms-anthropic) (3.7.1)\n",
            "Requirement already satisfied: distro<2,>=1.7.0 in /usr/local/lib/python3.11/dist-packages (from anthropic>=0.49.0->anthropic[bedrock,vertex]>=0.49.0->llama-index-llms-anthropic) (1.9.0)\n",
            "Requirement already satisfied: httpx<1,>=0.23.0 in /usr/local/lib/python3.11/dist-packages (from anthropic>=0.49.0->anthropic[bedrock,vertex]>=0.49.0->llama-index-llms-anthropic) (0.28.1)\n",
            "Requirement already satisfied: jiter<1,>=0.4.0 in /usr/local/lib/python3.11/dist-packages (from anthropic>=0.49.0->anthropic[bedrock,vertex]>=0.49.0->llama-index-llms-anthropic) (0.8.2)\n",
            "Requirement already satisfied: pydantic<3,>=1.9.0 in /usr/local/lib/python3.11/dist-packages (from anthropic>=0.49.0->anthropic[bedrock,vertex]>=0.49.0->llama-index-llms-anthropic) (2.10.6)\n",
            "Requirement already satisfied: sniffio in /usr/local/lib/python3.11/dist-packages (from anthropic>=0.49.0->anthropic[bedrock,vertex]>=0.49.0->llama-index-llms-anthropic) (1.3.1)\n",
            "Requirement already satisfied: typing-extensions<5,>=4.10 in /usr/local/lib/python3.11/dist-packages (from anthropic>=0.49.0->anthropic[bedrock,vertex]>=0.49.0->llama-index-llms-anthropic) (4.12.2)\n",
            "Collecting boto3>=1.28.57 (from anthropic[bedrock,vertex]>=0.49.0->llama-index-llms-anthropic)\n",
            "  Downloading boto3-1.37.11-py3-none-any.whl.metadata (6.7 kB)\n",
            "Collecting botocore>=1.31.57 (from anthropic[bedrock,vertex]>=0.49.0->llama-index-llms-anthropic)\n",
            "  Downloading botocore-1.37.11-py3-none-any.whl.metadata (5.7 kB)\n",
            "Requirement already satisfied: google-auth<3,>=2 in /usr/local/lib/python3.11/dist-packages (from anthropic[bedrock,vertex]>=0.49.0->llama-index-llms-anthropic) (2.38.0)\n",
            "Requirement already satisfied: PyYAML>=6.0.1 in /usr/local/lib/python3.11/dist-packages (from llama-index-core<0.13.0,>=0.12.5->llama-index-llms-anthropic) (6.0.2)\n",
            "Requirement already satisfied: SQLAlchemy>=1.4.49 in /usr/local/lib/python3.11/dist-packages (from SQLAlchemy[asyncio]>=1.4.49->llama-index-core<0.13.0,>=0.12.5->llama-index-llms-anthropic) (2.0.38)\n",
            "Requirement already satisfied: aiohttp<4.0.0,>=3.8.6 in /usr/local/lib/python3.11/dist-packages (from llama-index-core<0.13.0,>=0.12.5->llama-index-llms-anthropic) (3.11.13)\n",
            "Requirement already satisfied: dataclasses-json in /usr/local/lib/python3.11/dist-packages (from llama-index-core<0.13.0,>=0.12.5->llama-index-llms-anthropic) (0.6.7)\n",
            "Requirement already satisfied: deprecated>=1.2.9.3 in /usr/local/lib/python3.11/dist-packages (from llama-index-core<0.13.0,>=0.12.5->llama-index-llms-anthropic) (1.2.18)\n",
            "Requirement already satisfied: dirtyjson<2.0.0,>=1.0.8 in /usr/local/lib/python3.11/dist-packages (from llama-index-core<0.13.0,>=0.12.5->llama-index-llms-anthropic) (1.0.8)\n",
            "Requirement already satisfied: filetype<2.0.0,>=1.2.0 in /usr/local/lib/python3.11/dist-packages (from llama-index-core<0.13.0,>=0.12.5->llama-index-llms-anthropic) (1.2.0)\n",
            "Requirement already satisfied: fsspec>=2023.5.0 in /usr/local/lib/python3.11/dist-packages (from llama-index-core<0.13.0,>=0.12.5->llama-index-llms-anthropic) (2024.10.0)\n",
            "Requirement already satisfied: nest-asyncio<2.0.0,>=1.5.8 in /usr/local/lib/python3.11/dist-packages (from llama-index-core<0.13.0,>=0.12.5->llama-index-llms-anthropic) (1.6.0)\n",
            "Requirement already satisfied: networkx>=3.0 in /usr/local/lib/python3.11/dist-packages (from llama-index-core<0.13.0,>=0.12.5->llama-index-llms-anthropic) (3.4.2)\n",
            "Requirement already satisfied: nltk>3.8.1 in /usr/local/lib/python3.11/dist-packages (from llama-index-core<0.13.0,>=0.12.5->llama-index-llms-anthropic) (3.9.1)\n",
            "Requirement already satisfied: numpy in /usr/local/lib/python3.11/dist-packages (from llama-index-core<0.13.0,>=0.12.5->llama-index-llms-anthropic) (1.26.4)\n",
            "Requirement already satisfied: pillow>=9.0.0 in /usr/local/lib/python3.11/dist-packages (from llama-index-core<0.13.0,>=0.12.5->llama-index-llms-anthropic) (11.1.0)\n",
            "Requirement already satisfied: requests>=2.31.0 in /usr/local/lib/python3.11/dist-packages (from llama-index-core<0.13.0,>=0.12.5->llama-index-llms-anthropic) (2.32.3)\n",
            "Requirement already satisfied: tenacity!=8.4.0,<10.0.0,>=8.2.0 in /usr/local/lib/python3.11/dist-packages (from llama-index-core<0.13.0,>=0.12.5->llama-index-llms-anthropic) (9.0.0)\n",
            "Requirement already satisfied: tiktoken>=0.3.3 in /usr/local/lib/python3.11/dist-packages (from llama-index-core<0.13.0,>=0.12.5->llama-index-llms-anthropic) (0.9.0)\n",
            "Requirement already satisfied: tqdm<5.0.0,>=4.66.1 in /usr/local/lib/python3.11/dist-packages (from llama-index-core<0.13.0,>=0.12.5->llama-index-llms-anthropic) (4.67.1)\n",
            "Requirement already satisfied: typing-inspect>=0.8.0 in /usr/local/lib/python3.11/dist-packages (from llama-index-core<0.13.0,>=0.12.5->llama-index-llms-anthropic) (0.9.0)\n",
            "Requirement already satisfied: wrapt in /usr/local/lib/python3.11/dist-packages (from llama-index-core<0.13.0,>=0.12.5->llama-index-llms-anthropic) (1.17.2)\n",
            "Requirement already satisfied: aiohappyeyeballs>=2.3.0 in /usr/local/lib/python3.11/dist-packages (from aiohttp<4.0.0,>=3.8.6->llama-index-core<0.13.0,>=0.12.5->llama-index-llms-anthropic) (2.5.0)\n",
            "Requirement already satisfied: aiosignal>=1.1.2 in /usr/local/lib/python3.11/dist-packages (from aiohttp<4.0.0,>=3.8.6->llama-index-core<0.13.0,>=0.12.5->llama-index-llms-anthropic) (1.3.2)\n",
            "Requirement already satisfied: attrs>=17.3.0 in /usr/local/lib/python3.11/dist-packages (from aiohttp<4.0.0,>=3.8.6->llama-index-core<0.13.0,>=0.12.5->llama-index-llms-anthropic) (25.1.0)\n",
            "Requirement already satisfied: frozenlist>=1.1.1 in /usr/local/lib/python3.11/dist-packages (from aiohttp<4.0.0,>=3.8.6->llama-index-core<0.13.0,>=0.12.5->llama-index-llms-anthropic) (1.5.0)\n",
            "Requirement already satisfied: multidict<7.0,>=4.5 in /usr/local/lib/python3.11/dist-packages (from aiohttp<4.0.0,>=3.8.6->llama-index-core<0.13.0,>=0.12.5->llama-index-llms-anthropic) (6.1.0)\n",
            "Requirement already satisfied: propcache>=0.2.0 in /usr/local/lib/python3.11/dist-packages (from aiohttp<4.0.0,>=3.8.6->llama-index-core<0.13.0,>=0.12.5->llama-index-llms-anthropic) (0.3.0)\n",
            "Requirement already satisfied: yarl<2.0,>=1.17.0 in /usr/local/lib/python3.11/dist-packages (from aiohttp<4.0.0,>=3.8.6->llama-index-core<0.13.0,>=0.12.5->llama-index-llms-anthropic) (1.18.3)\n",
            "Requirement already satisfied: idna>=2.8 in /usr/local/lib/python3.11/dist-packages (from anyio<5,>=3.5.0->anthropic>=0.49.0->anthropic[bedrock,vertex]>=0.49.0->llama-index-llms-anthropic) (3.10)\n",
            "Collecting jmespath<2.0.0,>=0.7.1 (from boto3>=1.28.57->anthropic[bedrock,vertex]>=0.49.0->llama-index-llms-anthropic)\n",
            "  Downloading jmespath-1.0.1-py3-none-any.whl.metadata (7.6 kB)\n",
            "Collecting s3transfer<0.12.0,>=0.11.0 (from boto3>=1.28.57->anthropic[bedrock,vertex]>=0.49.0->llama-index-llms-anthropic)\n",
            "  Downloading s3transfer-0.11.4-py3-none-any.whl.metadata (1.7 kB)\n",
            "Requirement already satisfied: python-dateutil<3.0.0,>=2.1 in /usr/local/lib/python3.11/dist-packages (from botocore>=1.31.57->anthropic[bedrock,vertex]>=0.49.0->llama-index-llms-anthropic) (2.8.2)\n",
            "Requirement already satisfied: urllib3!=2.2.0,<3,>=1.25.4 in /usr/local/lib/python3.11/dist-packages (from botocore>=1.31.57->anthropic[bedrock,vertex]>=0.49.0->llama-index-llms-anthropic) (2.3.0)\n",
            "Requirement already satisfied: cachetools<6.0,>=2.0.0 in /usr/local/lib/python3.11/dist-packages (from google-auth<3,>=2->anthropic[bedrock,vertex]>=0.49.0->llama-index-llms-anthropic) (5.5.2)\n",
            "Requirement already satisfied: pyasn1-modules>=0.2.1 in /usr/local/lib/python3.11/dist-packages (from google-auth<3,>=2->anthropic[bedrock,vertex]>=0.49.0->llama-index-llms-anthropic) (0.4.1)\n",
            "Requirement already satisfied: rsa<5,>=3.1.4 in /usr/local/lib/python3.11/dist-packages (from google-auth<3,>=2->anthropic[bedrock,vertex]>=0.49.0->llama-index-llms-anthropic) (4.9)\n",
            "Requirement already satisfied: certifi in /usr/local/lib/python3.11/dist-packages (from httpx<1,>=0.23.0->anthropic>=0.49.0->anthropic[bedrock,vertex]>=0.49.0->llama-index-llms-anthropic) (2025.1.31)\n",
            "Requirement already satisfied: httpcore==1.* in /usr/local/lib/python3.11/dist-packages (from httpx<1,>=0.23.0->anthropic>=0.49.0->anthropic[bedrock,vertex]>=0.49.0->llama-index-llms-anthropic) (1.0.7)\n",
            "Requirement already satisfied: h11<0.15,>=0.13 in /usr/local/lib/python3.11/dist-packages (from httpcore==1.*->httpx<1,>=0.23.0->anthropic>=0.49.0->anthropic[bedrock,vertex]>=0.49.0->llama-index-llms-anthropic) (0.14.0)\n",
            "Requirement already satisfied: click in /usr/local/lib/python3.11/dist-packages (from nltk>3.8.1->llama-index-core<0.13.0,>=0.12.5->llama-index-llms-anthropic) (8.1.8)\n",
            "Requirement already satisfied: joblib in /usr/local/lib/python3.11/dist-packages (from nltk>3.8.1->llama-index-core<0.13.0,>=0.12.5->llama-index-llms-anthropic) (1.4.2)\n",
            "Requirement already satisfied: regex>=2021.8.3 in /usr/local/lib/python3.11/dist-packages (from nltk>3.8.1->llama-index-core<0.13.0,>=0.12.5->llama-index-llms-anthropic) (2024.11.6)\n",
            "Requirement already satisfied: annotated-types>=0.6.0 in /usr/local/lib/python3.11/dist-packages (from pydantic<3,>=1.9.0->anthropic>=0.49.0->anthropic[bedrock,vertex]>=0.49.0->llama-index-llms-anthropic) (0.7.0)\n",
            "Requirement already satisfied: pydantic-core==2.27.2 in /usr/local/lib/python3.11/dist-packages (from pydantic<3,>=1.9.0->anthropic>=0.49.0->anthropic[bedrock,vertex]>=0.49.0->llama-index-llms-anthropic) (2.27.2)\n",
            "Requirement already satisfied: charset-normalizer<4,>=2 in /usr/local/lib/python3.11/dist-packages (from requests>=2.31.0->llama-index-core<0.13.0,>=0.12.5->llama-index-llms-anthropic) (3.4.1)\n",
            "Requirement already satisfied: greenlet!=0.4.17 in /usr/local/lib/python3.11/dist-packages (from SQLAlchemy>=1.4.49->SQLAlchemy[asyncio]>=1.4.49->llama-index-core<0.13.0,>=0.12.5->llama-index-llms-anthropic) (3.1.1)\n",
            "Requirement already satisfied: mypy-extensions>=0.3.0 in /usr/local/lib/python3.11/dist-packages (from typing-inspect>=0.8.0->llama-index-core<0.13.0,>=0.12.5->llama-index-llms-anthropic) (1.0.0)\n",
            "Requirement already satisfied: marshmallow<4.0.0,>=3.18.0 in /usr/local/lib/python3.11/dist-packages (from dataclasses-json->llama-index-core<0.13.0,>=0.12.5->llama-index-llms-anthropic) (3.26.1)\n",
            "Requirement already satisfied: packaging>=17.0 in /usr/local/lib/python3.11/dist-packages (from marshmallow<4.0.0,>=3.18.0->dataclasses-json->llama-index-core<0.13.0,>=0.12.5->llama-index-llms-anthropic) (24.2)\n",
            "Requirement already satisfied: pyasn1<0.7.0,>=0.4.6 in /usr/local/lib/python3.11/dist-packages (from pyasn1-modules>=0.2.1->google-auth<3,>=2->anthropic[bedrock,vertex]>=0.49.0->llama-index-llms-anthropic) (0.6.1)\n",
            "Requirement already satisfied: six>=1.5 in /usr/local/lib/python3.11/dist-packages (from python-dateutil<3.0.0,>=2.1->botocore>=1.31.57->anthropic[bedrock,vertex]>=0.49.0->llama-index-llms-anthropic) (1.17.0)\n",
            "Downloading llama_index_llms_anthropic-0.6.10-py3-none-any.whl (11 kB)\n",
            "Downloading anthropic-0.49.0-py3-none-any.whl (243 kB)\n",
            "\u001b[2K   \u001b[90m━━━━━━━━━━━━━━━━━━━━━━━━━━━━━━━━━━━━━━━━\u001b[0m \u001b[32m243.4/243.4 kB\u001b[0m \u001b[31m12.6 MB/s\u001b[0m eta \u001b[36m0:00:00\u001b[0m\n",
            "\u001b[?25hDownloading boto3-1.37.11-py3-none-any.whl (139 kB)\n",
            "\u001b[2K   \u001b[90m━━━━━━━━━━━━━━━━━━━━━━━━━━━━━━━━━━━━━━━━\u001b[0m \u001b[32m139.6/139.6 kB\u001b[0m \u001b[31m9.0 MB/s\u001b[0m eta \u001b[36m0:00:00\u001b[0m\n",
            "\u001b[?25hDownloading botocore-1.37.11-py3-none-any.whl (13.4 MB)\n",
            "\u001b[2K   \u001b[90m━━━━━━━━━━━━━━━━━━━━━━━━━━━━━━━━━━━━━━━━\u001b[0m \u001b[32m13.4/13.4 MB\u001b[0m \u001b[31m66.5 MB/s\u001b[0m eta \u001b[36m0:00:00\u001b[0m\n",
            "\u001b[?25hDownloading jmespath-1.0.1-py3-none-any.whl (20 kB)\n",
            "Downloading s3transfer-0.11.4-py3-none-any.whl (84 kB)\n",
            "\u001b[2K   \u001b[90m━━━━━━━━━━━━━━━━━━━━━━━━━━━━━━━━━━━━━━━━\u001b[0m \u001b[32m84.4/84.4 kB\u001b[0m \u001b[31m5.6 MB/s\u001b[0m eta \u001b[36m0:00:00\u001b[0m\n",
            "\u001b[?25hInstalling collected packages: jmespath, botocore, s3transfer, anthropic, boto3, llama-index-llms-anthropic\n",
            "Successfully installed anthropic-0.49.0 boto3-1.37.11 botocore-1.37.11 jmespath-1.0.1 llama-index-llms-anthropic-0.6.10 s3transfer-0.11.4\n",
            "Requirement already satisfied: llama-index-core in /usr/local/lib/python3.11/dist-packages (0.12.23.post2)\n",
            "Requirement already satisfied: PyYAML>=6.0.1 in /usr/local/lib/python3.11/dist-packages (from llama-index-core) (6.0.2)\n",
            "Requirement already satisfied: SQLAlchemy>=1.4.49 in /usr/local/lib/python3.11/dist-packages (from SQLAlchemy[asyncio]>=1.4.49->llama-index-core) (2.0.38)\n",
            "Requirement already satisfied: aiohttp<4.0.0,>=3.8.6 in /usr/local/lib/python3.11/dist-packages (from llama-index-core) (3.11.13)\n",
            "Requirement already satisfied: dataclasses-json in /usr/local/lib/python3.11/dist-packages (from llama-index-core) (0.6.7)\n",
            "Requirement already satisfied: deprecated>=1.2.9.3 in /usr/local/lib/python3.11/dist-packages (from llama-index-core) (1.2.18)\n",
            "Requirement already satisfied: dirtyjson<2.0.0,>=1.0.8 in /usr/local/lib/python3.11/dist-packages (from llama-index-core) (1.0.8)\n",
            "Requirement already satisfied: filetype<2.0.0,>=1.2.0 in /usr/local/lib/python3.11/dist-packages (from llama-index-core) (1.2.0)\n",
            "Requirement already satisfied: fsspec>=2023.5.0 in /usr/local/lib/python3.11/dist-packages (from llama-index-core) (2024.10.0)\n",
            "Requirement already satisfied: httpx in /usr/local/lib/python3.11/dist-packages (from llama-index-core) (0.28.1)\n",
            "Requirement already satisfied: nest-asyncio<2.0.0,>=1.5.8 in /usr/local/lib/python3.11/dist-packages (from llama-index-core) (1.6.0)\n",
            "Requirement already satisfied: networkx>=3.0 in /usr/local/lib/python3.11/dist-packages (from llama-index-core) (3.4.2)\n",
            "Requirement already satisfied: nltk>3.8.1 in /usr/local/lib/python3.11/dist-packages (from llama-index-core) (3.9.1)\n",
            "Requirement already satisfied: numpy in /usr/local/lib/python3.11/dist-packages (from llama-index-core) (1.26.4)\n",
            "Requirement already satisfied: pillow>=9.0.0 in /usr/local/lib/python3.11/dist-packages (from llama-index-core) (11.1.0)\n",
            "Requirement already satisfied: pydantic>=2.8.0 in /usr/local/lib/python3.11/dist-packages (from llama-index-core) (2.10.6)\n",
            "Requirement already satisfied: requests>=2.31.0 in /usr/local/lib/python3.11/dist-packages (from llama-index-core) (2.32.3)\n",
            "Requirement already satisfied: tenacity!=8.4.0,<10.0.0,>=8.2.0 in /usr/local/lib/python3.11/dist-packages (from llama-index-core) (9.0.0)\n",
            "Requirement already satisfied: tiktoken>=0.3.3 in /usr/local/lib/python3.11/dist-packages (from llama-index-core) (0.9.0)\n",
            "Requirement already satisfied: tqdm<5.0.0,>=4.66.1 in /usr/local/lib/python3.11/dist-packages (from llama-index-core) (4.67.1)\n",
            "Requirement already satisfied: typing-extensions>=4.5.0 in /usr/local/lib/python3.11/dist-packages (from llama-index-core) (4.12.2)\n",
            "Requirement already satisfied: typing-inspect>=0.8.0 in /usr/local/lib/python3.11/dist-packages (from llama-index-core) (0.9.0)\n",
            "Requirement already satisfied: wrapt in /usr/local/lib/python3.11/dist-packages (from llama-index-core) (1.17.2)\n",
            "Requirement already satisfied: aiohappyeyeballs>=2.3.0 in /usr/local/lib/python3.11/dist-packages (from aiohttp<4.0.0,>=3.8.6->llama-index-core) (2.5.0)\n",
            "Requirement already satisfied: aiosignal>=1.1.2 in /usr/local/lib/python3.11/dist-packages (from aiohttp<4.0.0,>=3.8.6->llama-index-core) (1.3.2)\n",
            "Requirement already satisfied: attrs>=17.3.0 in /usr/local/lib/python3.11/dist-packages (from aiohttp<4.0.0,>=3.8.6->llama-index-core) (25.1.0)\n",
            "Requirement already satisfied: frozenlist>=1.1.1 in /usr/local/lib/python3.11/dist-packages (from aiohttp<4.0.0,>=3.8.6->llama-index-core) (1.5.0)\n",
            "Requirement already satisfied: multidict<7.0,>=4.5 in /usr/local/lib/python3.11/dist-packages (from aiohttp<4.0.0,>=3.8.6->llama-index-core) (6.1.0)\n",
            "Requirement already satisfied: propcache>=0.2.0 in /usr/local/lib/python3.11/dist-packages (from aiohttp<4.0.0,>=3.8.6->llama-index-core) (0.3.0)\n",
            "Requirement already satisfied: yarl<2.0,>=1.17.0 in /usr/local/lib/python3.11/dist-packages (from aiohttp<4.0.0,>=3.8.6->llama-index-core) (1.18.3)\n",
            "Requirement already satisfied: click in /usr/local/lib/python3.11/dist-packages (from nltk>3.8.1->llama-index-core) (8.1.8)\n",
            "Requirement already satisfied: joblib in /usr/local/lib/python3.11/dist-packages (from nltk>3.8.1->llama-index-core) (1.4.2)\n",
            "Requirement already satisfied: regex>=2021.8.3 in /usr/local/lib/python3.11/dist-packages (from nltk>3.8.1->llama-index-core) (2024.11.6)\n",
            "Requirement already satisfied: annotated-types>=0.6.0 in /usr/local/lib/python3.11/dist-packages (from pydantic>=2.8.0->llama-index-core) (0.7.0)\n",
            "Requirement already satisfied: pydantic-core==2.27.2 in /usr/local/lib/python3.11/dist-packages (from pydantic>=2.8.0->llama-index-core) (2.27.2)\n",
            "Requirement already satisfied: charset-normalizer<4,>=2 in /usr/local/lib/python3.11/dist-packages (from requests>=2.31.0->llama-index-core) (3.4.1)\n",
            "Requirement already satisfied: idna<4,>=2.5 in /usr/local/lib/python3.11/dist-packages (from requests>=2.31.0->llama-index-core) (3.10)\n",
            "Requirement already satisfied: urllib3<3,>=1.21.1 in /usr/local/lib/python3.11/dist-packages (from requests>=2.31.0->llama-index-core) (2.3.0)\n",
            "Requirement already satisfied: certifi>=2017.4.17 in /usr/local/lib/python3.11/dist-packages (from requests>=2.31.0->llama-index-core) (2025.1.31)\n",
            "Requirement already satisfied: greenlet!=0.4.17 in /usr/local/lib/python3.11/dist-packages (from SQLAlchemy>=1.4.49->SQLAlchemy[asyncio]>=1.4.49->llama-index-core) (3.1.1)\n",
            "Requirement already satisfied: mypy-extensions>=0.3.0 in /usr/local/lib/python3.11/dist-packages (from typing-inspect>=0.8.0->llama-index-core) (1.0.0)\n",
            "Requirement already satisfied: marshmallow<4.0.0,>=3.18.0 in /usr/local/lib/python3.11/dist-packages (from dataclasses-json->llama-index-core) (3.26.1)\n",
            "Requirement already satisfied: anyio in /usr/local/lib/python3.11/dist-packages (from httpx->llama-index-core) (3.7.1)\n",
            "Requirement already satisfied: httpcore==1.* in /usr/local/lib/python3.11/dist-packages (from httpx->llama-index-core) (1.0.7)\n",
            "Requirement already satisfied: h11<0.15,>=0.13 in /usr/local/lib/python3.11/dist-packages (from httpcore==1.*->httpx->llama-index-core) (0.14.0)\n",
            "Requirement already satisfied: packaging>=17.0 in /usr/local/lib/python3.11/dist-packages (from marshmallow<4.0.0,>=3.18.0->dataclasses-json->llama-index-core) (24.2)\n",
            "Requirement already satisfied: sniffio>=1.1 in /usr/local/lib/python3.11/dist-packages (from anyio->httpx->llama-index-core) (1.3.1)\n"
          ]
        }
      ],
      "source": [
        "!pip install llama-index-llms-anthropic\n",
        "!pip install llama-index-core\n"
      ]
    },
    {
      "cell_type": "code",
      "execution_count": 5,
      "metadata": {
        "id": "b8zrjJ3jolVM"
      },
      "outputs": [],
      "source": [
        "from llama_index.core import SQLDatabase, Settings\n",
        "from llama_index.llms.openai import OpenAI\n",
        "#from llama_index.llms.anthropic import Anthropic\n",
        "from sqlalchemy import (\n",
        "    create_engine,\n",
        "    MetaData,\n",
        "    Table,\n",
        "    Column,\n",
        "    String,\n",
        "    Integer,\n",
        ")\n",
        "\n",
        "Settings.llm = OpenAI(\"gpt-3.5-turbo\")\n",
        "\n",
        "\n",
        "engine = create_engine(\"sqlite:///:memory:\", future=True)\n",
        "metadata_obj = MetaData()\n",
        "\n",
        "# create city SQL table\n",
        "table_name = \"city_stats\"\n",
        "city_stats_table = Table(\n",
        "    table_name,\n",
        "    metadata_obj,\n",
        "    Column(\"city_name\", String(16), primary_key=True),\n",
        "    Column(\"population\", Integer),\n",
        "    Column(\"state\", String(16), nullable=False),\n",
        ")\n",
        "\n",
        "metadata_obj.create_all(engine)"
      ]
    },
    {
      "cell_type": "code",
      "execution_count": 6,
      "metadata": {
        "colab": {
          "base_uri": "https://localhost:8080/"
        },
        "id": "IvjyZAz6olVN",
        "outputId": "eaa02298-bd96-4158-968f-e6cca3d7666b"
      },
      "outputs": [
        {
          "name": "stdout",
          "output_type": "stream",
          "text": [
            "[('New York City', 8336000, 'New York'), ('Los Angeles', 3822000, 'California'), ('Chicago', 2665000, 'Illinois'), ('Houston', 2303000, 'Texas'), ('Miami', 449514, 'Florida'), ('Seattle', 749256, 'Washington')]\n"
          ]
        }
      ],
      "source": [
        "from sqlalchemy import insert\n",
        "\n",
        "rows = [\n",
        "    {\"city_name\": \"New York City\", \"population\": 8336000, \"state\": \"New York\"},\n",
        "    {\"city_name\": \"Los Angeles\", \"population\": 3822000, \"state\": \"California\"},\n",
        "    {\"city_name\": \"Chicago\", \"population\": 2665000, \"state\": \"Illinois\"},\n",
        "    {\"city_name\": \"Houston\", \"population\": 2303000, \"state\": \"Texas\"},\n",
        "    {\"city_name\": \"Miami\", \"population\": 449514, \"state\": \"Florida\"},\n",
        "    {\"city_name\": \"Seattle\", \"population\": 749256, \"state\": \"Washington\"},\n",
        "]\n",
        "for row in rows:\n",
        "    stmt = insert(city_stats_table).values(**row)\n",
        "    with engine.begin() as connection:\n",
        "        cursor = connection.execute(stmt)\n",
        "\n",
        "with engine.connect() as connection:\n",
        "    cursor = connection.exec_driver_sql(\"SELECT * FROM city_stats\")\n",
        "    print(cursor.fetchall())"
      ]
    },
    {
      "cell_type": "markdown",
      "metadata": {
        "id": "kOHuUoqHolVO"
      },
      "source": [
        "Create a query engine based on SQL database."
      ]
    },
    {
      "cell_type": "code",
      "execution_count": 7,
      "metadata": {
        "id": "j7QoWhUeolVO"
      },
      "outputs": [],
      "source": [
        "from llama_index.core.query_engine import NLSQLTableQueryEngine\n",
        "\n",
        "sql_database = SQLDatabase(engine, include_tables=[\"city_stats\"])\n",
        "sql_query_engine = NLSQLTableQueryEngine(\n",
        "    sql_database=sql_database,\n",
        "    tables=[\"city_stats\"]\n",
        ")"
      ]
    },
    {
      "cell_type": "code",
      "execution_count": 8,
      "metadata": {
        "colab": {
          "base_uri": "https://localhost:8080/"
        },
        "id": "-vX0YW0Zvz3B",
        "outputId": "4218182b-439f-4b50-af01-e9028b78acd9"
      },
      "outputs": [
        {
          "name": "stdout",
          "output_type": "stream",
          "text": [
            "CreateEmbeddingResponse(data=[Embedding(embedding=[-0.0011391325388103724, -0.003206387162208557, 0.002380132209509611, -0.004501554183661938, -0.010328996926546097, 0.012922565452754498, -0.005491119809448719, -0.0029864837415516376, -0.007327961269766092, -0.03365817293524742, 0.014099695719778538, 0.03262333199381828, -0.010037948377430439, -0.0006289887242019176, 0.0022782650776207447, -0.003689851611852646, 0.03202829882502556, -0.0006471792585216463, 0.024538645520806313, -0.006260782480239868, 0.005086885765194893, 0.0016549356514587998, -0.009313560090959072, 0.013245952315628529, -0.02629787288606167, -0.015548471361398697, 0.009863318875432014, -0.022675933316349983, 0.01716540940105915, 0.00252565648406744, 0.0061217257753014565, -0.014423083513975143, -0.004886385519057512, -0.016428085044026375, 0.007237412501126528, 0.0007579394732601941, 0.0025353580713272095, -0.01888583041727543, 0.012728532776236534, -0.017385313287377357, 0.019066927954554558, 0.007243880536407232, 0.0012377657694742084, -0.025133678689599037, -0.006952831521630287, 0.0010332231177017093, 0.011667821556329727, -0.010548900812864304, -0.01752760261297226, 0.019946541637182236, 0.01937738060951233, -0.008181704208254814, -0.04258366674184799, -0.009384705685079098, -0.002119805198162794, 0.011409111320972443, -0.004443344660103321, 0.03215765580534935, 0.016544505953788757, -0.003906521014869213, -0.015858924016356468, 0.006739395670592785, -0.009915061295032501, -0.004899320658296347, 0.0013784392504021525, -0.004178166855126619, -0.005332659929990768, 0.003858013078570366, 0.00033268489642068744, 0.002659862395375967, 0.019920671358704567, -0.0029881007503718138, 0.005064248573035002, 0.00548141822218895, 0.013582275249063969, 0.0010607111034914851, -0.01194593496620655, 0.00809115543961525, 0.004854046739637852, 0.001129430951550603, 0.011092191562056541, -0.028432229533791542, -0.014927567914128304, 0.02490083873271942, 0.018264926970005035, -0.0018368411110714078, -0.005494353827089071, 0.026879969984292984, -0.010891691781580448, -0.01296783983707428, -0.01104045007377863, 0.02226199582219124, 0.0008007883443497121, 0.011583740822970867, -0.018446024507284164, 0.032054170966148376, 0.016428085044026375, 0.03484823927283287, 0.0002566888288129121, -0.03482236713171005, -0.007011041510850191, 0.0034408431965857744, -0.003253278322517872, 0.0023106038570404053, -0.018640056252479553, 0.0002152548113372177, 0.007948865182697773, 0.0026630961801856756, 0.028742682188749313, 0.005310023203492165, -0.012909629382193089, 0.0208778977394104, -0.0068946219980716705, -0.038651276379823685, 0.015302697196602821, -0.0007894697482697666, -0.00015290165902115405, -0.03339946269989014, -0.01052302960306406, -0.011971806176006794, 0.005248579196631908, 0.017605217173695564, 0.016402214765548706, -0.024887902662158012, 0.013452921062707901, 0.0061217257753014565, -0.02288290113210678, -0.033916883170604706, -0.013672824017703533, -0.005255047231912613, 0.013931534253060818, 0.0152380196377635, 0.01060711033642292, 0.02289583534002304, -0.022313738241791725, 0.032442234456539154, -0.02575458213686943, 0.015341503545641899, -0.025715775787830353, -0.009307092987000942, -0.002139208372682333, 0.012230515480041504, -0.005167732480913401, -0.022779416292905807, 0.019131604582071304, 0.026543647050857544, 0.02508193626999855, -0.021304769441485405, 0.010930498130619526, -0.022844094783067703, 0.0219256728887558, -0.002826406853273511, 0.025651097297668457, -0.007043380290269852, 0.02894965000450611, 0.024008288979530334, 0.0033761656377464533, 0.0018416919047012925, -0.009313560090959072, -0.02982926368713379, 0.0022216723300516605, 0.014267857186496258, 0.007806574460119009, -0.01685495674610138, 0.034615401178598404, 0.03505520522594452, 0.013996211811900139, 0.008783205412328243, 0.006225209683179855, -0.02611677534878254, -0.026323743164539337, 0.036271143704652786, -0.033606432378292084, 0.026724744588136673, -0.01803208701312542, 0.02187393233180046, 0.01305192057043314, 0.006264016032218933, -0.023969482630491257, -0.003212854964658618, -0.03451191633939743, 0.013737501576542854, 0.022352544590830803, 0.028018293902277946, -0.01144145056605339, -0.008459817618131638, 0.013828050345182419, -0.014461889863014221, 0.010510094463825226, -0.01851070113480091, 0.015522601082921028, 0.03135565295815468, -0.00020858494099229574, -0.014513631351292133, -0.7074166536331177, -0.014487761072814465, 0.02174457721412182, -0.00901604350656271, 0.028587456792593002, 0.04113489389419556, 0.01883408986032009, 0.006959299556910992, -0.005756297614425421, 0.028561584651470184, -0.014591244980692863, -0.005381168331950903, -0.015729568898677826, -0.010238449089229107, -0.00677820248529315, -0.01070412714034319, -0.013621082529425621, 0.0031530281994491816, -0.01331062987446785, 0.010969304479658604, -0.008893156424164772, 0.03321836516261101, -0.012857887893915176, -0.01094343326985836, -0.004365731496363878, 0.006432177498936653, 0.018769411370158195, -0.00547171663492918, 0.0017285062931478024, 0.009953867644071579, -0.02747500315308571, 0.011480256915092468, 0.005866249557584524, 0.012405144982039928, 0.03414972126483917, -0.003712488804012537, -0.0026841163635253906, -0.01785099133849144, 0.011848918162286282, -0.004465981386601925, -0.013957405462861061, -0.004601804539561272, -0.0038353758864104748, -0.007942397147417068, -0.0029476771596819162, -0.000813723832834512, 0.010949901305139065, -0.016259923577308655, 0.007269751280546188, 0.00564957968890667, -0.0042428444139659405, 0.013685760088264942, -0.0014423083048313856, -0.003809504909440875, -0.0060214754194021225, 0.0108593525364995, 0.027863068506121635, 0.008136429823935032, -0.008039413951337337, 0.021848060190677643, -0.01068472396582365, 0.01668679527938366, -0.005584902595728636, -0.02090376988053322, -0.02861332707107067, 0.00028741065762005746, -0.014151438139379025, 0.021421188488602638, 0.025806324556469917, -0.023529674857854843, 0.0008594023529440165, 0.0015336653450503945, -0.005148329306393862, -0.01716540940105915, 0.010865820571780205, 0.009442915208637714, 0.010393674485385418, -0.003990601748228073, -0.01936444453895092, 0.026647131890058517, -0.0020599784329533577, -0.01525095570832491, -0.023529674857854843, -0.01473353523761034, 0.025379452854394913, -0.02052863873541355, -0.03370991349220276, 0.00265177758410573, -0.0008262551273219287, 0.010031480342149734, 0.013931534253060818, 0.006622976157814264, -0.019752509891986847, -0.010742933489382267, 0.005985903088003397, -0.013802179135382175, -0.006047346629202366, 0.012431016191840172, 0.03132978081703186, -0.018821153789758682, 0.0041846344247460365, 0.007399106398224831, 0.0026614791713654995, 0.006267250049859285, 0.005267982836812735, 0.002826406853273511, 0.0063157579861581326, 0.019998284056782722, 0.01682908646762371, -0.013491727411746979, -0.0022426925133913755, -0.014681792818009853, -0.013957405462861061, 0.007521993480622768, -0.011726031079888344, -0.029855135828256607, -0.010723530314862728, 0.012644452042877674, 0.008039413951337337, 0.004275183193385601, 0.015522601082921028, 0.029725780710577965, 0.018627120181918144, -0.00033450397313572466, -0.002506253309547901, -0.0029460603836923838, 0.002782749477773905, -0.016609182581305504, -0.014668857678771019, 0.005879185162484646, -0.007011041510850191, 0.004805538337677717, 0.025327710434794426, -0.003851545276120305, 0.017048990353941917, 6.356585799949244e-05, 0.016453957185149193, -0.011745434254407883, 0.020101768895983696, -0.0208778977394104, -0.03132978081703186, 0.01177777349948883, -0.003437609411776066, 0.00823991373181343, 0.0027245397213846445, -0.011428514495491982, -0.03011384606361389, -0.005151563324034214, -0.012075290083885193, -0.007069251034408808, -0.02426699921488762, -0.003612238448113203, -0.007218009326606989, 8.874208106135484e-06, -0.025159548968076706, -0.014940503053367138, -0.006318992003798485, -0.025017257779836655, -0.0023445594124495983, -0.011182740330696106, -0.006099088583141565, 0.017656957730650902, -0.007528461515903473, 0.01601414941251278, -0.0135564049705863, -0.004475683439522982, -0.026349615305662155, 0.021343575790524483, -0.01297430694103241, -0.0326492041349411, -0.018911702558398247, -0.014694728888571262, -0.009397640824317932, 0.003023673314601183, 0.00809115543961525, -0.011823047883808613, -0.022766482084989548, -0.0021133373957127333, 0.008621511049568653, -0.01270266156643629, -0.0076901549473404884, 0.010930498130619526, 0.011389708146452904, 0.026233196258544922, 0.010063819587230682, 0.016376344487071037, 0.017734572291374207, 0.016052955761551857, -0.01245041936635971, 0.0033066372852772474, 0.0005214623524807394, 0.0076901549473404884, -0.013414113782346249, 0.0034149722196161747, -0.020425155758857727, -0.0041005536913871765, -0.01246982254087925, 0.013802179135382175, 0.0026404589880257845, 0.005339127965271473, 0.019765444099903107, 0.012327532283961773, 0.017656957730650902, -0.014811147935688496, -0.01179717667400837, -0.03554675728082657, -0.01633753813803196, -0.005943862721323967, 0.016764407977461815, -0.00018807005835697055, 0.009022511541843414, -0.017385313287377357, -0.02680235728621483, 0.009119528345763683, 0.025482935830950737, 0.015626084059476852, -0.007295622490346432, 0.006972234696149826, -0.017411183565855026, -0.0032096211798489094, -0.009320028126239777, -0.0017430586740374565, 0.017644023522734642, -0.01045188494026661, -0.020476898178458214, 0.0022426925133913755, 0.027086937800049782, 0.032597459852695465, 0.017967410385608673, -0.041005536913871765, -0.006571234203875065, 0.009332963265478611, 0.0006225209799595177, 0.003828908083960414, 0.006435411516577005, 0.003296935698017478, 0.015561407431960106, -0.009649883955717087, 0.03050191141664982, 0.0009903742466121912, 0.003612238448113203, 0.008615043014287949, 0.03777166083455086, -0.011784241534769535, 0.029182489961385727, 0.007243880536407232, 0.034977592527866364, -0.0011213462566956878, 0.0007514717290177941, 0.03153675049543381, -0.0066682505421340466, 0.008356333710253239, 0.006519492249935865, -0.004876683931797743, 0.025327710434794426, -0.028070036321878433, -0.015186278149485588, -0.013336501084268093, 0.02223612554371357, 0.033270109444856644, 0.02089083380997181, 0.009779238142073154, 0.0095981415361166, -0.006112024188041687, 0.012754403986036777, 0.009578738361597061, 0.0021634625736624002, 0.002469063736498356, -0.01162901520729065, -0.006616508588194847, -0.013957405462861061, -0.004003537353128195, 0.027707843109965324, -0.0030317578930407763, 0.03634875640273094, -0.006580935791134834, 0.015147470869123936, 0.00942998006939888, 0.0043527958914637566, 0.00900957640260458, -0.005167732480913401, -0.031769588589668274, 0.003261363133788109, 0.002729390747845173, 0.006002072244882584, -0.0271128099411726, -0.027578487992286682, 0.0026550116017460823, -0.01338824350386858, 0.006238145288079977, -0.0005517799290828407, -0.0042266747914254665, 0.011648418381810188, -0.018420152366161346, 0.003486117348074913, 0.030217329040169716, 0.006513024680316448, 0.0031336250249296427, 0.001620171475224197, -0.0065841698087751865, -0.003948561381548643, -0.00800707470625639, 0.007638412993401289, -0.008466284722089767, 0.012502161785960197, -0.015354439616203308, -0.010626513510942459, -0.016751473769545555, 0.0001487582630943507, -0.0032920849043875933, 0.005736894439905882, 0.00876380130648613, -0.006674718111753464, -0.009792174212634563, 0.014009146951138973, 0.013634017668664455, 0.0019581113010644913, 0.012547435238957405, 0.023853063583374023, 0.002418938558548689, -0.007942397147417068, -0.012780274264514446, -0.00851155910640955, 0.0021731641609221697, 0.0633322149515152, 0.01887289620935917, -0.006901089567691088, -0.00231545465067029, 0.019804252311587334, -0.012211112305521965, -0.028716811910271645, 0.0011310478439554572, 0.012178773991763592, -0.002174780936911702, -0.0003318764502182603, 0.0021311237942427397, 0.013983276672661304, 0.002608120208606124, 0.00900957640260458, 0.008621511049568653, -0.011564337648451328, -0.015871860086917877, -0.0032047703862190247, -0.0032160887494683266, 0.0033567624632269144, 0.011577272787690163, 0.0019451759289950132, 0.007347364444285631, 0.012644452042877674, -0.008699123747646809, 0.0022281398996710777, 0.005966499913483858, -0.005297087598592043, -0.03295965492725372, -0.016453957185149193, 0.022119706496596336, -0.00043819009442813694, 0.0023963015992194414, -0.0062316772527992725, 0.030579524114727974, -0.01364695280790329, -0.008013542741537094, 0.003093201667070389, -0.00728268688544631, 0.013789243996143341, 0.013401178643107414, 0.004912256263196468, -0.019144540652632713, 0.004870215896517038, -0.0034343753941357136, -0.004769966006278992, 0.009604609571397305, -0.010050884447991848, -0.009468786418437958, 0.009281221777200699, -0.00012177561438875273, -0.021511737257242203, -0.01719127967953682, 0.009242415428161621, 0.013174807652831078, -0.018433088436722755, 0.003274298505857587, -0.018769411370158195, -0.025832194834947586, -0.028690939769148827, -0.01490169670432806, -0.019571412354707718, -0.0025385920889675617, -0.02140825428068638, -0.03288204222917557, -0.012443951331079006, -0.011564337648451328, -0.03013971634209156, -0.014410147443413734, 0.00045435945503413677, -0.014798212796449661, -0.017644023522734642, -0.02175751142203808, 0.027371520176529884, -0.00556549895554781, 0.003466714173555374, 0.005067482590675354, -0.0028425762429833412, 0.012353403493762016, -0.005927693098783493, -0.013853921554982662, -0.0006378818652592599, -0.01381511427462101, -0.004889619071036577, 0.03045016899704933, 0.0043269251473248005, 0.011409111320972443, 0.008020010776817799, 0.015962406992912292, 0.008530962280929089, 0.002406003186479211, -0.010134965181350708, -0.01720421575009823, -0.0003866502083837986, -0.00778717128559947, 0.0076448810286819935, 0.0001471413270337507, -0.010231981053948402, -0.008181704208254814, -0.010458352044224739, -0.013168339617550373, -0.011784241534769535, -0.003486117348074913, 0.021692834794521332, -0.013672824017703533, 0.008065284229815006, 0.012314596213400364, -0.012353403493762016, 0.007683687377721071, -0.004860514309257269, -0.009358834475278854, 0.005086885765194893, -0.00934589933604002, -0.001992067089304328, 0.013465856201946735, 0.015276825986802578, 0.021679898723959923, -0.0009766302537173033, -0.02443516068160534, -0.010406610555946827, -0.019325638189911842, 0.012709129601716995, 0.03365817293524742, 0.010729997418820858, 0.018614185974001884, -0.010665319859981537, 0.0036510450299829245, -0.016945505514740944, 0.0061637661419808865, -0.00781951006501913, 0.014332534745335579, -0.01153199840337038, -0.015535536222159863, -0.02760435827076435, -0.009138931520283222, -0.009300624951720238, 0.01834253966808319, 0.004863748326897621, 0.00025365708279423416, -0.012314596213400364, 0.0021489099599421024, 0.0066876537166535854, -0.02239135093986988, -0.023956546559929848, -0.024008288979530334, -0.02341325581073761, 0.014293728396296501, -0.010548900812864304, 0.01068472396582365, 0.01127328909933567, -0.011687224730849266, -0.022779416292905807, 0.0033017864916473627, 0.011596675962209702, -0.02781132608652115, -0.003900053445249796, -0.0039032872300595045, 0.031071072444319725, 0.03929805010557175, 0.03756469488143921, -0.011506128124892712, 0.0042848847806453705, 0.013685760088264942, -0.010231981053948402, 0.0011116445530205965, -0.025056064128875732, -0.014992245472967625, -0.013071323744952679, 0.012709129601716995, 0.00798767153173685, 0.007043380290269852, 0.0031465606298297644, -0.002349410206079483, 0.010173771530389786, 0.015147470869123936, -0.0037998033221811056, 0.006341629195958376, -0.011719563975930214, -0.011098659597337246, -0.01095636934041977, 0.009378237649798393, -0.005552563816308975, 0.023801321163773537, -0.005335893947631121, -0.014513631351292133, 0.028716811910271645, 0.014940503053367138, 0.011939466930925846, 0.011370304971933365, 0.02406003139913082, -0.01567782647907734, -0.004944595042616129, 0.008964302018284798, -0.0013840985484421253, -0.01270266156643629, 0.006797605659812689, -0.00823991373181343, -0.0038547792937606573, 0.013840985484421253, 0.0013574190670624375, 0.009352367371320724, -0.014436018653213978, 0.004006771370768547, 0.013905663043260574, 0.0030527780763804913, -0.007056315429508686, 0.0029024030081927776, 0.005620474927127361, 0.0005299512995406985, -0.0036704482045024633, -0.029932748526334763, -0.001993684098124504, -0.01078820787370205, 0.01720421575009823, 0.023878933861851692, -0.018407218158245087, 0.005788636393845081, -0.019817186519503593, -0.027837198227643967, 0.0037706983275711536, 0.002397918375208974, 0.028535714372992516, 0.009339431300759315, 0.003366464050486684, 0.014022083021700382, 0.015690762549638748, -0.01650569960474968, 0.0012741468381136656, -0.019752509891986847, -0.011784241534769535, 0.03301139920949936, 0.02424112893640995, -0.006920492742210627, -0.010432480834424496, -0.004876683931797743, 0.035288047045469284, -0.004601804539561272, -0.02271473966538906, -0.010264319367706776, 0.014811147935688496, 0.007521993480622768, -0.012463354505598545, -0.002313837641850114, -0.03715075924992561, 0.007761300541460514, 0.0013857155572623014, -0.010898158885538578, -0.028225261718034744, 0.010361336171627045, -0.02257244847714901, 0.01372456643730402, -0.03738359734416008, 0.012340467423200607, 0.018458958715200424, -0.02289583534002304, -0.0016048105899244547, -0.0033729318529367447, -0.01255390327423811, -0.013297694735229015, 0.016052955761551857, 0.0381079837679863, -0.013569340109825134, 0.00023425383551511914, 0.013427049852907658, 0.0032937019132077694, -0.016932569444179535, 0.0135564049705863, -0.00753492908552289, 0.02439635433256626, -0.013491727411746979, -0.022650061175227165, -0.0033988028299063444, 0.02372370846569538, 0.001916071050800383, 0.00017644831677898765, -0.0018481597071513534, -0.007049847859889269, -0.007664284203201532, 0.007871252484619617, 0.008815543726086617, 0.009003108367323875, -0.012295193038880825, -0.00669412175193429, -0.0034149722196161747, -0.013750437647104263, -0.025482935830950737, -0.006732928100973368, -0.01631166599690914, -0.023141611367464066, -0.021149544045329094, 0.0028635964263230562, 0.004569465760141611, 0.014009146951138973, 0.007489654701203108, -0.01838134601712227, 0.019144540652632713, 0.02425406314432621, -0.03422733396291733, 0.005213006865233183, -0.017928604036569595, -0.0012967839138582349, -0.006377201993018389, 0.0011342817451804876, 0.005070716142654419, -0.007845381274819374, 0.021835125982761383, -0.012424548156559467, -0.030476039275527, -0.01752760261297226, -0.008977237157523632, 0.002384983003139496, 0.00048508128384128213, -0.0015773226041346788, 0.012631515972316265, 0.003064096672460437, 0.007910058833658695, 0.021253027021884918, -0.017825119197368622, 0.01939031481742859, -0.005384402349591255, 0.006713524926453829, 0.0170231182128191, -0.026983454823493958, -0.016078827902674675, 0.010484223254024982, 0.0021440591663122177, 0.0055396282114088535, -0.014953439123928547, -0.021097801625728607, 0.0035896014887839556, 0.01902812160551548, 0.013931534253060818, -0.008065284229815006, -0.01888583041727543, -0.0004943786771036685, -0.002937975572422147, 0.006186403334140778, -4.181299573247088e-06, -0.008647382259368896, -0.008032945916056633, 0.006629444193094969, -0.0021925673354417086, -0.0030705644749104977, 0.00271968892775476, -0.007897122763097286, -0.02982926368713379, 0.0012151285773143172, -0.03590894863009453, -0.013323565945029259, 0.0025709308683872223, 0.016259923577308655, 0.013569340109825134, -0.018316669389605522, -0.02962229587137699, -0.004475683439522982, -0.04198863357305527, -0.02153760939836502, -0.0100185452029109, -0.004676183685660362, 0.002098785014823079, 0.008401608094573021, -0.021602286025881767, 0.03505520522594452, 0.004517723806202412, 0.01800621673464775, -0.013828050345182419, -0.01937738060951233, 0.01221758034080267, -0.011008110828697681, 0.011907128617167473, 0.005326192360371351, -0.020981382578611374, -0.015496729873120785, 0.024849096313118935, -0.0011900661047548056, 0.0025628460571169853, 0.03213178366422653, 0.004071448929607868, -0.027837198227643967, -0.015186278149485588, -0.0001348121732007712, -0.0019031355623155832, -0.011732499115169048, -0.005930927116423845, -0.009475254453718662, -0.02034754306077957, 0.003305020509287715, -0.0006532428087666631, -0.002244309289380908, -0.007412042003124952, -0.008692656643688679, -0.004685885272920132, 0.009520528838038445, -0.036115918308496475, -0.013136001303792, -0.005743362475186586, -0.00834339763969183, 0.01246982254087925, -0.0031449436210095882, -0.019649025052785873, 0.014591244980692863, 0.007800106890499592, -0.017799248918890953, -0.02543119341135025, 0.02069680020213127, -0.004197570029646158, 0.0028425762429833412, 0.00265177758410573, 0.011622547172009945, 0.006131427362561226, -0.016790280118584633, -0.012586242519319057, -0.018911702558398247, -0.002798918867483735, -0.012832016684114933, -0.008530962280929089, -0.014293728396296501, 0.019959477707743645, 0.007153331767767668, -0.021317705512046814, -0.008304591290652752, -0.025353580713272095, 0.01935150846838951, 0.01287082303315401, -0.015056923031806946, 0.0034279075916856527, -0.018161442130804062, 0.019933607429265976, 0.022326674312353134, -0.01883408986032009, -0.004879917483776808, 0.012941968627274036, 0.009662819094955921, -0.007269751280546188, 0.014591244980692863, 0.2291135936975479, -0.0038418436888605356, 0.0023235392291098833, 0.012773807160556316, 0.007593139074742794, 0.027164550498127937, 0.010096157900989056, -0.013763372786343098, -0.006797605659812689, 0.022973449900746346, 0.02105899527668953, 0.004763497970998287, 0.0020664462354034185, 0.002464212942868471, -0.0005808848072774708, -0.0045371269807219505, -0.004983401857316494, -0.022624190896749496, -0.02055451087653637, -0.04364437982439995, -0.0013218465028330684, -0.020412219688296318, 0.0009604609222151339, -0.012825548648834229, 0.004459513816982508, -0.009384705685079098, -0.013168339617550373, -0.0016225968720391393, 0.017954474315047264, 0.025392387062311172, -0.01988186500966549, 0.001872413675300777, 0.02090376988053322, 0.0034117382019758224, -0.01803208701312542, -0.012359870597720146, 0.014655922539532185, 0.005403805524110794, 0.02208090014755726, -0.012929032556712627, 0.026569519191980362, 0.001831990317441523, 0.014875825494527817, -0.0028393424581736326, 0.004860514309257269, 0.02726803533732891, -0.004640610888600349, -0.016285795718431473, 0.010891691781580448, 0.017799248918890953, -0.011137465946376324, 0.0024027691688388586, 0.016958441585302353, 0.007509058341383934, 0.0168161503970623, -0.00823991373181343, 0.02590980753302574, -0.014384277164936066, 0.009856851771473885, 0.015315632335841656, -0.012599177658557892, 0.02259831875562668, -0.01647982746362686, 0.03523630276322365, -0.0020583616569638252, 0.02439635433256626, -0.029725780710577965, -0.01228225789964199, 0.009423512034118176, -0.0006969001260586083, -0.0013905663508921862, -0.0091777378693223, 0.013866856694221497, -0.006713524926453829, -0.022016221657395363, -0.006593871396034956, 0.02122715674340725, 0.0191962830722332, 0.029906878247857094, 0.009119528345763683, -0.014888761565089226, 0.003997069783508778, -0.010911094956099987, -0.03430494666099548, -0.026828227564692497, -0.038159728050231934, 0.0028377254493534565, -0.018303733319044113, -0.018303733319044113, -0.01563902013003826, -0.013517598621547222, -0.0191962830722332, -0.0046664816327393055, -0.006875218823552132, 0.017605217173695564, 0.0043721990659832954, 0.0008739547920413315, 0.02625906653702259, 0.0031546452082693577, -0.002040575258433819, -0.029337715357542038, 0.019972413778305054, 0.029389457777142525, 0.016906699165701866, 0.004207271616905928, 0.0029638465493917465, -0.0112797562032938, -0.001754377270117402, -0.0034764157608151436, 0.0033017864916473627, 0.004740860778838396, -0.023529674857854843, 0.007884187623858452, -0.012295193038880825, -0.0021634625736624002, -0.002632374409586191, -0.0014342236099764705, -0.012172305956482887, 0.014190244488418102, -0.008039413951337337, -0.001479497877880931, 0.005542862229049206, -0.00555579736828804, 0.006564766634255648, 0.0017592280637472868, -0.015147470869123936, -0.01836841180920601, -0.01955847628414631, 0.009630479849874973, -0.01901518553495407, 0.011661353521049023, 0.0006253506289795041, 0.015936536714434624, 0.001718804705888033, -0.0007025593658909202, 0.016376344487071037, 0.0035831336863338947, 0.013608146458864212, -0.031226297840476036, 0.005746596027165651, 0.02949294075369835, 0.006713524926453829, -0.012980774976313114, -0.007599606644362211, 0.003550794906914234, -0.02794068120419979, 0.03466714173555374, -0.018756475299596786, -0.022520706057548523, -0.010839949361979961, -0.02579338848590851, -0.0030075039248913527, 0.007218009326606989, 0.008317527361214161, 0.03414972126483917, -0.017786312848329544, -0.03704727441072464, -0.031381525099277496, 0.013763372786343098, -0.0008941664709709585, -0.03065713681280613, -0.0029476771596819162, 0.029079005122184753, -0.02139531821012497, -0.010147900320589542, -0.011803644709289074, -0.167851060628891, 0.013659888878464699, 0.0013452920829877257, -0.0041425940580666065, 0.015871860086917877, -0.0024577451404184103, 0.034097980707883835, 0.0010130114387720823, 0.003235492156818509, 0.0025563782546669245, 0.0022847328800708055, -0.03288204222917557, -0.026569519191980362, -0.0045403605327010155, -0.003706021001562476, 0.01085288543254137, -0.018898766487836838, -0.005306789185851812, 0.024810289964079857, 0.015897730365395546, 0.009746899828314781, -0.007871252484619617, 0.02561229094862938, -0.01253450009971857, 0.01255390327423811, -0.019235089421272278, -0.002481999108567834, 0.03314075246453285, -0.020502768456935883, 0.008162301033735275, -0.005694854073226452, 0.012327532283961773, 0.01715247333049774, 0.003437609411776066, 0.015095729380846024, 0.0166738610714674, 0.04121250659227371, -0.01854950748383999, -0.010846417397260666, 0.020295800641179085, 0.031045202165842056, 0.008479220792651176, -0.0022426925133913755, -0.0058500804007053375, -0.002976782154291868, 0.01770870015025139, 0.025547614321112633, -0.013233017176389694, 0.026828227564692497, -0.006829944439232349, 8.655669080326334e-05, -0.022844094783067703, -0.0057271928526461124, -0.011900660581886768, 0.015095729380846024, 0.023516740649938583, -0.025664033368229866, 0.004989869426935911, 0.0030964354518800974, 0.008298123255372047, 0.01085288543254137, -0.022274931892752647, 0.010025013238191605, 0.003402036614716053, -0.008466284722089767, -0.005132159683853388, -0.014448953792452812, 0.0052194744348526, 0.0022637126967310905, 0.0025935678277164698, -0.016609182581305504, -0.017656957730650902, 0.0043269251473248005, -0.00030418639653362334, 0.013362372294068336, 0.00023364748631138355, -0.017592281103134155, 0.01737237721681595, -0.025896871462464333, 0.004786135163158178, 0.00012642430374398828, 0.025043129920959473, 0.003023673314601183, 0.0022394584957510233, -0.009223012253642082, 0.00231545465067029, 0.002779515692964196, 0.003366464050486684, -0.0027310075238347054, -0.011079256422817707, 0.029906878247857094, -0.02120128646492958, -0.012857887893915176, -0.013349436223506927, -0.014099695719778538, 0.01095636934041977, 0.013866856694221497, -0.0019872162956744432, -0.0018610951956361532, 0.004753796383738518, -0.005584902595728636, -0.00808468833565712, -0.02090376988053322, 0.01905399188399315, 0.028406359255313873, -0.0007357065915130079, -0.009520528838038445, 0.012275789864361286, 0.013019581325352192, 0.006192870903760195, -0.02355554699897766, 0.0007801723550073802, 0.010290190577507019, 0.017605217173695564, 0.019131604582071304, 0.010296658612787724, 0.005148329306393862, -0.015496729873120785, 0.0030285241082310677, 0.0060796854086220264, 0.047395672649145126, -0.005668983329087496, -0.015393245965242386, 0.033425334841012955, 0.012010612525045872, -0.009294156916439533, -0.1045188456773758, -0.03319249302148819, 0.023490868508815765, 0.05223355069756508, -0.0019532605074346066, 0.033916883170604706, 0.019325638189911842, 0.025056064128875732, -0.017644023522734642, -0.009313560090959072, -0.009818045422434807, -0.009436448104679585, -0.024189386516809464, -0.006622976157814264, 0.004236376378685236, -0.004359263926744461, 0.018756475299596786, -0.015315632335841656, -0.027190422639250755, 0.05181961506605148, -0.004721457604318857, 0.004970466252416372, 0.013064855709671974, -0.032752688974142075, -0.01719127967953682, 0.010665319859981537, -0.03065713681280613, 0.020451026037335396, 0.0073926388286054134, -0.004152295645326376, -0.01010262593626976, -0.01548379473388195, 0.017825119197368622, -0.01287082303315401, -0.011422047391533852, -0.003967965021729469, -0.02894965000450611, -0.005507289431989193, 0.028095906600356102, -0.011079256422817707, 0.012592709623277187, 0.017475862056016922, -0.013866856694221497, -0.03619353100657463, -0.0002975165261887014, -0.0031384758185595274, 0.016712667420506477, 0.0161823108792305, -0.005022208206355572, -0.01322008203715086, -0.03634875640273094, -0.0038353758864104748, -0.020334606990218163, 0.01177777349948883, 0.01245041936635971, 0.00036926812026649714, 0.02995861880481243, 0.00858917273581028, -0.004973699804395437, -0.006538895424455404, -0.022352544590830803, 0.0017656958661973476, -0.01684202253818512, 0.009410576894879341, -0.008220510557293892, 0.0066682505421340466, -0.03029494173824787, -0.0034990529529750347, 0.005158030893653631, 0.004747328814119101, 0.004333392716944218, 0.009216544218361378, 0.006535661872476339, 0.012696193531155586, -0.03078649193048477, -0.0003177282342221588, -0.03114868514239788, -0.041186634451150894, 0.014151438139379025, 0.001283848425373435, -0.025728709995746613, -0.009908593259751797, 0.0005626942729577422, -0.03518456220626831, 0.0036736822221428156, 0.01364695280790329, 0.008796140551567078, -0.005251813214272261, 0.015393245965242386, -0.03381339833140373, 0.003064096672460437, 0.009320028126239777, 0.0012749552261084318, -0.023025190457701683, -0.026233196258544922, -0.006648847367614508, 0.006868750788271427, -0.014009146951138973, 0.03420146554708481, -0.008246381767094135, -0.03668507933616638, -0.020438091829419136, -0.03704727441072464, 0.021498801186680794, 0.0029897175263613462, -0.03803037106990814, -0.009662819094955921, -0.0026275236159563065, -0.016803216189146042, -0.009591673500835896, -0.016557440161705017, 0.017812184989452362, -0.0016589779406785965, -0.001017862232401967, -0.002503019291907549, -0.018122635781764984, -0.0095981415361166, 0.015716632828116417, 0.02544412948191166, 0.0027326245326548815, 0.006335161626338959, 0.0015530685195699334, 0.007483187131583691, -0.007897122763097286, 0.0076707517728209496, 0.009442915208637714, -0.018898766487836838, 0.019273895770311356, -0.02882029488682747, 0.015561407431960106, -0.030424296855926514, -0.022197319194674492, 0.0014762639766559005, -0.0230510625988245, -0.006681186147034168, -0.0017010183073580265, -0.02814764901995659, 0.01270266156643629, -0.0032096211798489094, 0.03818559646606445, 0.01598827913403511, 0.020489832386374474, -0.0022895836737006903, -0.04196276515722275, 0.023180417716503143, -0.0161823108792305, -0.02170577086508274, 0.025172485038638115, -0.01920921914279461, 0.01027078740298748, 0.03521043434739113, 0.007295622490346432, 0.010762336663901806, 0.009792174212634563, -0.02223612554371357, -0.010393674485385418, 0.007276219315826893, -0.006752331275492907, -0.0005711832200177014, 0.0014706046786159277, -0.01381511427462101, -0.015755439177155495, 0.03784927353262901, 0.006732928100973368, 0.013452921062707901, 0.007230944931507111, 0.007308558095246553, 0.016130568459630013, -0.010762336663901806, -0.0006225209799595177, 0.005064248573035002, -0.03370991349220276, -0.01113099791109562, -0.009546399116516113, 0.014979309402406216, 0.017087796702980995, 0.027397390455007553, 0.017449989914894104, 0.014047953300178051, -0.009048382751643658, -0.003337359055876732, 0.031588491052389145, 0.029079005122184753, 0.010949901305139065, -0.010471288114786148, 0.017941540107131004, 0.017631087452173233, 0.016415150836110115, 0.00580803956836462, 0.003305020509287715, -0.015613148920238018, 0.01322008203715086, -0.01715247333049774, 0.010134965181350708, 0.0006969001260586083, 0.017243022099137306, -0.0074185095727443695, -0.0042266747914254665, 0.012838484719395638, -0.008699123747646809, 0.023840127512812614, 0.025883937254548073, 0.023956546559929848, 0.008783205412328243, -0.015147470869123936, -0.013258888386189938, -0.005394103936851025, 0.005206538829952478, -0.009138931520283222, -0.03249397873878479, -0.001017053727991879, 0.01836841180920601, 0.00823991373181343, 0.0038062711246311665, 0.021796317771077156, 0.011422047391533852, -0.022637126967310905, 0.02019231580197811, -0.013414113782346249, 0.009585206396877766, -0.02562522701919079, 0.028509844094514847, -0.0023316240403801203, 0.01102751400321722, 0.025845130905508995, -0.01406088937073946, 0.01635047234594822, 0.005432910285890102, 0.00823991373181343, -0.024189386516809464, 0.005859781987965107, 0.004889619071036577, 0.014332534745335579, 0.014448953792452812, -0.014772341586649418, -0.014720600098371506, -0.01127328909933567, -0.009721028618514538, -0.020670929923653603, 0.015173342078924179, -0.016583312302827835, 0.045377735048532486, 0.0028587456326931715, -0.02625906653702259, 0.006212274078279734, 0.00555579736828804, 0.01752760261297226, 0.007593139074742794, 0.015703698620200157, -0.0074767195619642735, -0.003748061368241906, 0.028225261718034744, 0.009565802291035652, 0.004692352842539549, -0.027681970968842506, -0.03960850462317467, 0.008530962280929089, -0.008783205412328243, 0.012262854725122452, -0.018795281648635864, 0.007541396655142307, 0.009830980561673641, 0.02037341333925724, 0.008162301033735275, 0.015005180612206459, -0.017553474754095078, 0.0006176701281219721, 0.040151793509721756, -0.024836162105202675, -0.0005372274899855256, -0.033787526190280914, 0.025198355317115784, -0.009546399116516113, -0.019623154774308205, -0.011790708638727665, 0.014384277164936066, 0.002229756908491254, -0.015289762057363987, -0.0016088528791442513, -0.0005529926274903119, -0.008653850294649601, 0.018614185974001884, 0.042014505714178085, -0.03283030167222023, -0.016246989369392395, 0.00324195995926857, -0.017656957730650902, -0.01888583041727543, 0.010568303987383842, -0.0026016526389867067], index=0, object='embedding')], model='text-embedding-ada-002-v2', object='list', usage=Usage(prompt_tokens=6, total_tokens=6))\n"
          ]
        }
      ],
      "source": [
        "import openai\n",
        "\n",
        "openai.api_key = os.environ[\"OPENAI_API_KEY\"]\n",
        "response = openai.embeddings.create(\n",
        "    input=\"This is a test sentence.\",\n",
        "    model=\"text-embedding-ada-002\"\n",
        ")\n",
        "\n",
        "print(response)"
      ]
    },
    {
      "cell_type": "markdown",
      "metadata": {
        "id": "Vi7QiW_0olVO"
      },
      "source": [
        "## LlamaCloud Index\n",
        "\n",
        "Create an index and a query engine around the index you've created."
      ]
    },
    {
      "cell_type": "code",
      "execution_count": 9,
      "metadata": {
        "colab": {
          "base_uri": "https://localhost:8080/"
        },
        "id": "M4KuM9ml7RAU",
        "outputId": "5903c345-2205-4498-97b2-24e3749d8489"
      },
      "outputs": [
        {
          "name": "stdout",
          "output_type": "stream",
          "text": [
            "Found existing installation: llama-cloud 0.1.14\n",
            "Uninstalling llama-cloud-0.1.14:\n",
            "  Successfully uninstalled llama-cloud-0.1.14\n",
            "Collecting llama-cloud\n",
            "  Using cached llama_cloud-0.1.14-py3-none-any.whl.metadata (902 bytes)\n",
            "Requirement already satisfied: certifi>=2024.7.4 in /usr/local/lib/python3.11/dist-packages (from llama-cloud) (2025.1.31)\n",
            "Requirement already satisfied: httpx>=0.20.0 in /usr/local/lib/python3.11/dist-packages (from llama-cloud) (0.28.1)\n",
            "Requirement already satisfied: pydantic>=1.10 in /usr/local/lib/python3.11/dist-packages (from llama-cloud) (2.10.6)\n",
            "Requirement already satisfied: anyio in /usr/local/lib/python3.11/dist-packages (from httpx>=0.20.0->llama-cloud) (3.7.1)\n",
            "Requirement already satisfied: httpcore==1.* in /usr/local/lib/python3.11/dist-packages (from httpx>=0.20.0->llama-cloud) (1.0.7)\n",
            "Requirement already satisfied: idna in /usr/local/lib/python3.11/dist-packages (from httpx>=0.20.0->llama-cloud) (3.10)\n",
            "Requirement already satisfied: h11<0.15,>=0.13 in /usr/local/lib/python3.11/dist-packages (from httpcore==1.*->httpx>=0.20.0->llama-cloud) (0.14.0)\n",
            "Requirement already satisfied: annotated-types>=0.6.0 in /usr/local/lib/python3.11/dist-packages (from pydantic>=1.10->llama-cloud) (0.7.0)\n",
            "Requirement already satisfied: pydantic-core==2.27.2 in /usr/local/lib/python3.11/dist-packages (from pydantic>=1.10->llama-cloud) (2.27.2)\n",
            "Requirement already satisfied: typing-extensions>=4.12.2 in /usr/local/lib/python3.11/dist-packages (from pydantic>=1.10->llama-cloud) (4.12.2)\n",
            "Requirement already satisfied: sniffio>=1.1 in /usr/local/lib/python3.11/dist-packages (from anyio->httpx>=0.20.0->llama-cloud) (1.3.1)\n",
            "Using cached llama_cloud-0.1.14-py3-none-any.whl (261 kB)\n",
            "Installing collected packages: llama-cloud\n",
            "Successfully installed llama-cloud-0.1.14\n"
          ]
        }
      ],
      "source": [
        "!pip uninstall -y llama-cloud\n",
        "!pip install llama-cloud\n"
      ]
    },
    {
      "cell_type": "code",
      "execution_count": 10,
      "metadata": {
        "id": "NnqK3i-volVO"
      },
      "outputs": [],
      "source": [
        "from llama_index.indices.managed.llama_cloud import LlamaCloudIndex\n",
        "\n",
        "index = LlamaCloudIndex(\n",
        "    name=\"dailydoseofds-2025-03-12\",\n",
        "    project_name=\"Default\",\n",
        "    organization_id=\"32a9b69b-a901-41a8-8ff1-6807d15dcfed\",\n",
        "    api_key=os.environ[\"LLAMA_INDEX_API_KEY\"]\n",
        ")\n",
        "\n",
        "\n",
        "\n",
        "llama_cloud_query_engine = index.as_query_engine()"
      ]
    },
    {
      "cell_type": "markdown",
      "metadata": {
        "id": "y0ABUicAolVP"
      },
      "source": [
        "Create a query engine tool around these query engines."
      ]
    },
    {
      "cell_type": "code",
      "execution_count": 11,
      "metadata": {
        "id": "BuxDprDPolVP"
      },
      "outputs": [],
      "source": [
        "from llama_index.core.tools import QueryEngineTool\n",
        "\n",
        "sql_tool = QueryEngineTool.from_defaults(\n",
        "    query_engine=sql_query_engine,\n",
        "    description=(\n",
        "        \"Useful for translating a natural language query into a SQL query over\"\n",
        "        \" a table containing: city_stats, containing the population/state of\"\n",
        "        \" each city located in the USA.\"\n",
        "    ),\n",
        "    name=\"sql_tool\"\n",
        ")\n",
        "\n",
        "cities = [\"New York City\", \"Los Angeles\", \"Chicago\", \"Houston\", \"Miami\", \"Seattle\"]\n",
        "llama_cloud_tool = QueryEngineTool.from_defaults(\n",
        "    query_engine=llama_cloud_query_engine,\n",
        "    description=(\n",
        "        f\"Useful for answering semantic questions about certain cities in the US.\"\n",
        "    ),\n",
        "    name=\"llama_cloud_tool\"\n",
        ")"
      ]
    },
    {
      "cell_type": "markdown",
      "metadata": {
        "id": "0CO5k8J8olVP"
      },
      "source": [
        "## Creating an Agent Around the Query Engines\n",
        "\n",
        "We'll create a workflow that acts as an agent around the two query engines. In this workflow, we need four events:\n",
        "1. `GatherToolsEvent`: Gets all tools that need to be called (which is determined by the LLM).\n",
        "2. `ToolCallEvent`: An individual tool call. Multiple of these events will be triggered at the same time.\n",
        "3. `ToolCallEventResult`: Gets result from a tool call.\n",
        "4. `GatherEvent`: Returned from dispatcher that triggers the `ToolCallEvent`.\n",
        "\n",
        "This workflow consists of the following steps:\n",
        "1. `chat()`: Appends the message to the chat history. This chat history is fed into the LLM, along with the given tools, and the LLM determines which tools to call. This returns a `GatherToolsEvent`.\n",
        "2. `dispatch_calls()`: Triggers a `ToolCallEvent` for each tool call given in the `GatherToolsEvent` using `send_event()`. Returns a `GatherEvent` with the number of tool calls.\n",
        "3. `call_tool()`: Calls an individual tool. This step will run multiple times if there is more than one tool call. This step calls the tool and appends the result as a chat message to the chat history. It returns a `ToolCallEventResult` with the result of the tool call.\n",
        "4. `gather()`: Gathers the results from all tool calls using `collect_events()`. Waits for all tool calls to finish, then feeds chat history (following all tool calls) into the LLM. Returns the response from the LLM."
      ]
    },
    {
      "cell_type": "code",
      "execution_count": 12,
      "metadata": {
        "id": "umjKmgYPolVP"
      },
      "outputs": [],
      "source": [
        "from typing import Dict, List, Any, Optional\n",
        "from llama_index.core.workflow import Context\n",
        "\n",
        "\n",
        "from llama_index.core.tools import BaseTool\n",
        "from llama_index.core.llms import ChatMessage\n",
        "from llama_index.core.llms.llm import ToolSelection, LLM\n",
        "from llama_index.core.workflow import (\n",
        "    Workflow,\n",
        "    Event,\n",
        "    StartEvent,\n",
        "    StopEvent,\n",
        "    step,\n",
        ")\n",
        "from llama_index.core.base.response.schema import Response\n",
        "from llama_index.core.tools import FunctionTool\n",
        "\n",
        "\n",
        "class InputEvent(Event):\n",
        "    \"\"\"Input event.\"\"\"\n",
        "\n",
        "class GatherToolsEvent(Event):\n",
        "    \"\"\"Gather Tools Event\"\"\"\n",
        "\n",
        "    tool_calls: Any\n",
        "\n",
        "class ToolCallEvent(Event):\n",
        "    \"\"\"Tool Call event\"\"\"\n",
        "\n",
        "    tool_call: ToolSelection\n",
        "\n",
        "class ToolCallEventResult(Event):\n",
        "    \"\"\"Tool call event result.\"\"\"\n",
        "\n",
        "    msg: ChatMessage\n",
        "\n",
        "class RouterOutputAgentWorkflow(Workflow):\n",
        "    \"\"\"Custom router output agent workflow.\"\"\"\n",
        "\n",
        "    def __init__(self,\n",
        "        tools: List[BaseTool],\n",
        "        timeout: Optional[float] = 10.0,\n",
        "        disable_validation: bool = False,\n",
        "        verbose: bool = False,\n",
        "        llm: Optional[LLM] = None,\n",
        "        chat_history: Optional[List[ChatMessage]] = None,\n",
        "    ):\n",
        "        \"\"\"Constructor.\"\"\"\n",
        "\n",
        "        super().__init__(timeout=timeout, disable_validation=disable_validation, verbose=verbose)\n",
        "\n",
        "        self.tools: List[BaseTool] = tools\n",
        "        self.tools_dict: Optional[Dict[str, BaseTool]] = {tool.metadata.name: tool for tool in self.tools}\n",
        "        self.llm: LLM = llm or OpenAI(temperature=0, model=\"gpt-3.5-turbo\")\n",
        "        self.chat_history: List[ChatMessage] = chat_history or []\n",
        "\n",
        "\n",
        "    def reset(self) -> None:\n",
        "        \"\"\"Resets Chat History\"\"\"\n",
        "\n",
        "        self.chat_history = []\n",
        "\n",
        "    @step()\n",
        "    async def prepare_chat(self, ev: StartEvent) -> InputEvent:\n",
        "        message = ev.get(\"message\")\n",
        "        if message is None:\n",
        "            raise ValueError(\"'message' field is required.\")\n",
        "\n",
        "        # add msg to chat history\n",
        "        chat_history = self.chat_history\n",
        "        chat_history.append(ChatMessage(role=\"user\", content=message))\n",
        "        return InputEvent()\n",
        "\n",
        "    @step()\n",
        "    async def chat(self, ev: InputEvent) -> GatherToolsEvent | StopEvent:\n",
        "        \"\"\"Appends msg to chat history, then gets tool calls.\"\"\"\n",
        "\n",
        "        # Put msg into LLM with tools included\n",
        "        chat_res = await self.llm.achat_with_tools(\n",
        "            self.tools,\n",
        "            chat_history=self.chat_history,\n",
        "            verbose=self._verbose,\n",
        "            allow_parallel_tool_calls=True\n",
        "        )\n",
        "        tool_calls = self.llm.get_tool_calls_from_response(chat_res, error_on_no_tool_call=False)\n",
        "\n",
        "        ai_message = chat_res.message\n",
        "        self.chat_history.append(ai_message)\n",
        "        if self._verbose:\n",
        "            print(f\"Chat message: {ai_message.content}\")\n",
        "\n",
        "        # no tool calls, return chat message.\n",
        "        if not tool_calls:\n",
        "            return StopEvent(result=ai_message.content)\n",
        "\n",
        "        return GatherToolsEvent(tool_calls=tool_calls)\n",
        "\n",
        "    @step(pass_context=True)\n",
        "    async def dispatch_calls(self, ctx: Context, ev: GatherToolsEvent) -> ToolCallEvent:\n",
        "        \"\"\"Dispatches calls.\"\"\"\n",
        "\n",
        "        tool_calls = ev.tool_calls\n",
        "        await ctx.set(\"num_tool_calls\", len(tool_calls))\n",
        "\n",
        "        # trigger tool call events\n",
        "        for tool_call in tool_calls:\n",
        "            ctx.send_event(ToolCallEvent(tool_call=tool_call))\n",
        "\n",
        "        return None\n",
        "\n",
        "    @step()\n",
        "    async def call_tool(self, ev: ToolCallEvent) -> ToolCallEventResult:\n",
        "        \"\"\"Calls tool.\"\"\"\n",
        "\n",
        "        tool_call = ev.tool_call\n",
        "\n",
        "        # get tool ID and function call\n",
        "        id_ = tool_call.tool_id\n",
        "\n",
        "        if self._verbose:\n",
        "            print(f\"Calling function {tool_call.tool_name} with msg {tool_call.tool_kwargs}\")\n",
        "\n",
        "        # call function and put result into a chat message\n",
        "        tool = self.tools_dict[tool_call.tool_name]\n",
        "        output = await tool.acall(**tool_call.tool_kwargs)\n",
        "        msg = ChatMessage(\n",
        "            name=tool_call.tool_name,\n",
        "            content=str(output),\n",
        "            role=\"tool\",\n",
        "            additional_kwargs={\n",
        "                \"tool_call_id\": id_,\n",
        "                \"name\": tool_call.tool_name\n",
        "            }\n",
        "        )\n",
        "\n",
        "        return ToolCallEventResult(msg=msg)\n",
        "\n",
        "    @step(pass_context=True)\n",
        "    async def gather(self, ctx: Context, ev: ToolCallEventResult) -> StopEvent | None:\n",
        "        \"\"\"Gathers tool calls.\"\"\"\n",
        "        # wait for all tool call events to finish.\n",
        "        tool_events = ctx.collect_events(ev, [ToolCallEventResult] * await ctx.get(\"num_tool_calls\"))\n",
        "        if not tool_events:\n",
        "            return None\n",
        "\n",
        "        for tool_event in tool_events:\n",
        "            # append tool call chat messages to history\n",
        "            self.chat_history.append(tool_event.msg)\n",
        "\n",
        "        # # after all tool calls finish, pass input event back, restart agent loop\n",
        "        return InputEvent()"
      ]
    },
    {
      "cell_type": "markdown",
      "metadata": {
        "id": "aj3hO2wNolVP"
      },
      "source": [
        "Create the workflow instance."
      ]
    },
    {
      "cell_type": "code",
      "execution_count": 13,
      "metadata": {
        "id": "DMgkiLkcolVP"
      },
      "outputs": [],
      "source": [
        "wf = RouterOutputAgentWorkflow(tools=[sql_tool, llama_cloud_tool], verbose=True, timeout=120)"
      ]
    },
    {
      "cell_type": "markdown",
      "metadata": {
        "id": "g2DTtvJtolVQ"
      },
      "source": [
        "#### Visualize Workflow"
      ]
    },
    {
      "cell_type": "code",
      "execution_count": 14,
      "metadata": {
        "colab": {
          "base_uri": "https://localhost:8080/"
        },
        "collapsed": true,
        "id": "aNMPJdKvH8AD",
        "outputId": "7a40ec36-ab31-432b-d68c-fea72482074a"
      },
      "outputs": [
        {
          "name": "stdout",
          "output_type": "stream",
          "text": [
            "Collecting llama-index-utils-workflow\n",
            "  Downloading llama_index_utils_workflow-0.3.0-py3-none-any.whl.metadata (665 bytes)\n",
            "Requirement already satisfied: llama-index-core<0.13.0,>=0.12.0 in /usr/local/lib/python3.11/dist-packages (from llama-index-utils-workflow) (0.12.23.post2)\n",
            "Collecting pyvis<0.4.0,>=0.3.2 (from llama-index-utils-workflow)\n",
            "  Downloading pyvis-0.3.2-py3-none-any.whl.metadata (1.7 kB)\n",
            "Requirement already satisfied: PyYAML>=6.0.1 in /usr/local/lib/python3.11/dist-packages (from llama-index-core<0.13.0,>=0.12.0->llama-index-utils-workflow) (6.0.2)\n",
            "Requirement already satisfied: SQLAlchemy>=1.4.49 in /usr/local/lib/python3.11/dist-packages (from SQLAlchemy[asyncio]>=1.4.49->llama-index-core<0.13.0,>=0.12.0->llama-index-utils-workflow) (2.0.38)\n",
            "Requirement already satisfied: aiohttp<4.0.0,>=3.8.6 in /usr/local/lib/python3.11/dist-packages (from llama-index-core<0.13.0,>=0.12.0->llama-index-utils-workflow) (3.11.13)\n",
            "Requirement already satisfied: dataclasses-json in /usr/local/lib/python3.11/dist-packages (from llama-index-core<0.13.0,>=0.12.0->llama-index-utils-workflow) (0.6.7)\n",
            "Requirement already satisfied: deprecated>=1.2.9.3 in /usr/local/lib/python3.11/dist-packages (from llama-index-core<0.13.0,>=0.12.0->llama-index-utils-workflow) (1.2.18)\n",
            "Requirement already satisfied: dirtyjson<2.0.0,>=1.0.8 in /usr/local/lib/python3.11/dist-packages (from llama-index-core<0.13.0,>=0.12.0->llama-index-utils-workflow) (1.0.8)\n",
            "Requirement already satisfied: filetype<2.0.0,>=1.2.0 in /usr/local/lib/python3.11/dist-packages (from llama-index-core<0.13.0,>=0.12.0->llama-index-utils-workflow) (1.2.0)\n",
            "Requirement already satisfied: fsspec>=2023.5.0 in /usr/local/lib/python3.11/dist-packages (from llama-index-core<0.13.0,>=0.12.0->llama-index-utils-workflow) (2024.10.0)\n",
            "Requirement already satisfied: httpx in /usr/local/lib/python3.11/dist-packages (from llama-index-core<0.13.0,>=0.12.0->llama-index-utils-workflow) (0.28.1)\n",
            "Requirement already satisfied: nest-asyncio<2.0.0,>=1.5.8 in /usr/local/lib/python3.11/dist-packages (from llama-index-core<0.13.0,>=0.12.0->llama-index-utils-workflow) (1.6.0)\n",
            "Requirement already satisfied: networkx>=3.0 in /usr/local/lib/python3.11/dist-packages (from llama-index-core<0.13.0,>=0.12.0->llama-index-utils-workflow) (3.4.2)\n",
            "Requirement already satisfied: nltk>3.8.1 in /usr/local/lib/python3.11/dist-packages (from llama-index-core<0.13.0,>=0.12.0->llama-index-utils-workflow) (3.9.1)\n",
            "Requirement already satisfied: numpy in /usr/local/lib/python3.11/dist-packages (from llama-index-core<0.13.0,>=0.12.0->llama-index-utils-workflow) (1.26.4)\n",
            "Requirement already satisfied: pillow>=9.0.0 in /usr/local/lib/python3.11/dist-packages (from llama-index-core<0.13.0,>=0.12.0->llama-index-utils-workflow) (11.1.0)\n",
            "Requirement already satisfied: pydantic>=2.8.0 in /usr/local/lib/python3.11/dist-packages (from llama-index-core<0.13.0,>=0.12.0->llama-index-utils-workflow) (2.10.6)\n",
            "Requirement already satisfied: requests>=2.31.0 in /usr/local/lib/python3.11/dist-packages (from llama-index-core<0.13.0,>=0.12.0->llama-index-utils-workflow) (2.32.3)\n",
            "Requirement already satisfied: tenacity!=8.4.0,<10.0.0,>=8.2.0 in /usr/local/lib/python3.11/dist-packages (from llama-index-core<0.13.0,>=0.12.0->llama-index-utils-workflow) (9.0.0)\n",
            "Requirement already satisfied: tiktoken>=0.3.3 in /usr/local/lib/python3.11/dist-packages (from llama-index-core<0.13.0,>=0.12.0->llama-index-utils-workflow) (0.9.0)\n",
            "Requirement already satisfied: tqdm<5.0.0,>=4.66.1 in /usr/local/lib/python3.11/dist-packages (from llama-index-core<0.13.0,>=0.12.0->llama-index-utils-workflow) (4.67.1)\n",
            "Requirement already satisfied: typing-extensions>=4.5.0 in /usr/local/lib/python3.11/dist-packages (from llama-index-core<0.13.0,>=0.12.0->llama-index-utils-workflow) (4.12.2)\n",
            "Requirement already satisfied: typing-inspect>=0.8.0 in /usr/local/lib/python3.11/dist-packages (from llama-index-core<0.13.0,>=0.12.0->llama-index-utils-workflow) (0.9.0)\n",
            "Requirement already satisfied: wrapt in /usr/local/lib/python3.11/dist-packages (from llama-index-core<0.13.0,>=0.12.0->llama-index-utils-workflow) (1.17.2)\n",
            "Requirement already satisfied: ipython>=5.3.0 in /usr/local/lib/python3.11/dist-packages (from pyvis<0.4.0,>=0.3.2->llama-index-utils-workflow) (7.34.0)\n",
            "Requirement already satisfied: jinja2>=2.9.6 in /usr/local/lib/python3.11/dist-packages (from pyvis<0.4.0,>=0.3.2->llama-index-utils-workflow) (3.1.6)\n",
            "Requirement already satisfied: jsonpickle>=1.4.1 in /usr/local/lib/python3.11/dist-packages (from pyvis<0.4.0,>=0.3.2->llama-index-utils-workflow) (4.0.2)\n",
            "Requirement already satisfied: aiohappyeyeballs>=2.3.0 in /usr/local/lib/python3.11/dist-packages (from aiohttp<4.0.0,>=3.8.6->llama-index-core<0.13.0,>=0.12.0->llama-index-utils-workflow) (2.5.0)\n",
            "Requirement already satisfied: aiosignal>=1.1.2 in /usr/local/lib/python3.11/dist-packages (from aiohttp<4.0.0,>=3.8.6->llama-index-core<0.13.0,>=0.12.0->llama-index-utils-workflow) (1.3.2)\n",
            "Requirement already satisfied: attrs>=17.3.0 in /usr/local/lib/python3.11/dist-packages (from aiohttp<4.0.0,>=3.8.6->llama-index-core<0.13.0,>=0.12.0->llama-index-utils-workflow) (25.1.0)\n",
            "Requirement already satisfied: frozenlist>=1.1.1 in /usr/local/lib/python3.11/dist-packages (from aiohttp<4.0.0,>=3.8.6->llama-index-core<0.13.0,>=0.12.0->llama-index-utils-workflow) (1.5.0)\n",
            "Requirement already satisfied: multidict<7.0,>=4.5 in /usr/local/lib/python3.11/dist-packages (from aiohttp<4.0.0,>=3.8.6->llama-index-core<0.13.0,>=0.12.0->llama-index-utils-workflow) (6.1.0)\n",
            "Requirement already satisfied: propcache>=0.2.0 in /usr/local/lib/python3.11/dist-packages (from aiohttp<4.0.0,>=3.8.6->llama-index-core<0.13.0,>=0.12.0->llama-index-utils-workflow) (0.3.0)\n",
            "Requirement already satisfied: yarl<2.0,>=1.17.0 in /usr/local/lib/python3.11/dist-packages (from aiohttp<4.0.0,>=3.8.6->llama-index-core<0.13.0,>=0.12.0->llama-index-utils-workflow) (1.18.3)\n",
            "Requirement already satisfied: setuptools>=18.5 in /usr/local/lib/python3.11/dist-packages (from ipython>=5.3.0->pyvis<0.4.0,>=0.3.2->llama-index-utils-workflow) (75.1.0)\n",
            "Collecting jedi>=0.16 (from ipython>=5.3.0->pyvis<0.4.0,>=0.3.2->llama-index-utils-workflow)\n",
            "  Downloading jedi-0.19.2-py2.py3-none-any.whl.metadata (22 kB)\n",
            "Requirement already satisfied: decorator in /usr/local/lib/python3.11/dist-packages (from ipython>=5.3.0->pyvis<0.4.0,>=0.3.2->llama-index-utils-workflow) (4.4.2)\n",
            "Requirement already satisfied: pickleshare in /usr/local/lib/python3.11/dist-packages (from ipython>=5.3.0->pyvis<0.4.0,>=0.3.2->llama-index-utils-workflow) (0.7.5)\n",
            "Requirement already satisfied: traitlets>=4.2 in /usr/local/lib/python3.11/dist-packages (from ipython>=5.3.0->pyvis<0.4.0,>=0.3.2->llama-index-utils-workflow) (5.7.1)\n",
            "Requirement already satisfied: prompt-toolkit!=3.0.0,!=3.0.1,<3.1.0,>=2.0.0 in /usr/local/lib/python3.11/dist-packages (from ipython>=5.3.0->pyvis<0.4.0,>=0.3.2->llama-index-utils-workflow) (3.0.50)\n",
            "Requirement already satisfied: pygments in /usr/local/lib/python3.11/dist-packages (from ipython>=5.3.0->pyvis<0.4.0,>=0.3.2->llama-index-utils-workflow) (2.18.0)\n",
            "Requirement already satisfied: backcall in /usr/local/lib/python3.11/dist-packages (from ipython>=5.3.0->pyvis<0.4.0,>=0.3.2->llama-index-utils-workflow) (0.2.0)\n",
            "Requirement already satisfied: matplotlib-inline in /usr/local/lib/python3.11/dist-packages (from ipython>=5.3.0->pyvis<0.4.0,>=0.3.2->llama-index-utils-workflow) (0.1.7)\n",
            "Requirement already satisfied: pexpect>4.3 in /usr/local/lib/python3.11/dist-packages (from ipython>=5.3.0->pyvis<0.4.0,>=0.3.2->llama-index-utils-workflow) (4.9.0)\n",
            "Requirement already satisfied: MarkupSafe>=2.0 in /usr/local/lib/python3.11/dist-packages (from jinja2>=2.9.6->pyvis<0.4.0,>=0.3.2->llama-index-utils-workflow) (3.0.2)\n",
            "Requirement already satisfied: click in /usr/local/lib/python3.11/dist-packages (from nltk>3.8.1->llama-index-core<0.13.0,>=0.12.0->llama-index-utils-workflow) (8.1.8)\n",
            "Requirement already satisfied: joblib in /usr/local/lib/python3.11/dist-packages (from nltk>3.8.1->llama-index-core<0.13.0,>=0.12.0->llama-index-utils-workflow) (1.4.2)\n",
            "Requirement already satisfied: regex>=2021.8.3 in /usr/local/lib/python3.11/dist-packages (from nltk>3.8.1->llama-index-core<0.13.0,>=0.12.0->llama-index-utils-workflow) (2024.11.6)\n",
            "Requirement already satisfied: annotated-types>=0.6.0 in /usr/local/lib/python3.11/dist-packages (from pydantic>=2.8.0->llama-index-core<0.13.0,>=0.12.0->llama-index-utils-workflow) (0.7.0)\n",
            "Requirement already satisfied: pydantic-core==2.27.2 in /usr/local/lib/python3.11/dist-packages (from pydantic>=2.8.0->llama-index-core<0.13.0,>=0.12.0->llama-index-utils-workflow) (2.27.2)\n",
            "Requirement already satisfied: charset-normalizer<4,>=2 in /usr/local/lib/python3.11/dist-packages (from requests>=2.31.0->llama-index-core<0.13.0,>=0.12.0->llama-index-utils-workflow) (3.4.1)\n",
            "Requirement already satisfied: idna<4,>=2.5 in /usr/local/lib/python3.11/dist-packages (from requests>=2.31.0->llama-index-core<0.13.0,>=0.12.0->llama-index-utils-workflow) (3.10)\n",
            "Requirement already satisfied: urllib3<3,>=1.21.1 in /usr/local/lib/python3.11/dist-packages (from requests>=2.31.0->llama-index-core<0.13.0,>=0.12.0->llama-index-utils-workflow) (2.3.0)\n",
            "Requirement already satisfied: certifi>=2017.4.17 in /usr/local/lib/python3.11/dist-packages (from requests>=2.31.0->llama-index-core<0.13.0,>=0.12.0->llama-index-utils-workflow) (2025.1.31)\n",
            "Requirement already satisfied: greenlet!=0.4.17 in /usr/local/lib/python3.11/dist-packages (from SQLAlchemy>=1.4.49->SQLAlchemy[asyncio]>=1.4.49->llama-index-core<0.13.0,>=0.12.0->llama-index-utils-workflow) (3.1.1)\n",
            "Requirement already satisfied: mypy-extensions>=0.3.0 in /usr/local/lib/python3.11/dist-packages (from typing-inspect>=0.8.0->llama-index-core<0.13.0,>=0.12.0->llama-index-utils-workflow) (1.0.0)\n",
            "Requirement already satisfied: marshmallow<4.0.0,>=3.18.0 in /usr/local/lib/python3.11/dist-packages (from dataclasses-json->llama-index-core<0.13.0,>=0.12.0->llama-index-utils-workflow) (3.26.1)\n",
            "Requirement already satisfied: anyio in /usr/local/lib/python3.11/dist-packages (from httpx->llama-index-core<0.13.0,>=0.12.0->llama-index-utils-workflow) (3.7.1)\n",
            "Requirement already satisfied: httpcore==1.* in /usr/local/lib/python3.11/dist-packages (from httpx->llama-index-core<0.13.0,>=0.12.0->llama-index-utils-workflow) (1.0.7)\n",
            "Requirement already satisfied: h11<0.15,>=0.13 in /usr/local/lib/python3.11/dist-packages (from httpcore==1.*->httpx->llama-index-core<0.13.0,>=0.12.0->llama-index-utils-workflow) (0.14.0)\n",
            "Requirement already satisfied: parso<0.9.0,>=0.8.4 in /usr/local/lib/python3.11/dist-packages (from jedi>=0.16->ipython>=5.3.0->pyvis<0.4.0,>=0.3.2->llama-index-utils-workflow) (0.8.4)\n",
            "Requirement already satisfied: packaging>=17.0 in /usr/local/lib/python3.11/dist-packages (from marshmallow<4.0.0,>=3.18.0->dataclasses-json->llama-index-core<0.13.0,>=0.12.0->llama-index-utils-workflow) (24.2)\n",
            "Requirement already satisfied: ptyprocess>=0.5 in /usr/local/lib/python3.11/dist-packages (from pexpect>4.3->ipython>=5.3.0->pyvis<0.4.0,>=0.3.2->llama-index-utils-workflow) (0.7.0)\n",
            "Requirement already satisfied: wcwidth in /usr/local/lib/python3.11/dist-packages (from prompt-toolkit!=3.0.0,!=3.0.1,<3.1.0,>=2.0.0->ipython>=5.3.0->pyvis<0.4.0,>=0.3.2->llama-index-utils-workflow) (0.2.13)\n",
            "Requirement already satisfied: sniffio>=1.1 in /usr/local/lib/python3.11/dist-packages (from anyio->httpx->llama-index-core<0.13.0,>=0.12.0->llama-index-utils-workflow) (1.3.1)\n",
            "Downloading llama_index_utils_workflow-0.3.0-py3-none-any.whl (2.8 kB)\n",
            "Downloading pyvis-0.3.2-py3-none-any.whl (756 kB)\n",
            "\u001b[2K   \u001b[90m━━━━━━━━━━━━━━━━━━━━━━━━━━━━━━━━━━━━━━━━\u001b[0m \u001b[32m756.0/756.0 kB\u001b[0m \u001b[31m21.5 MB/s\u001b[0m eta \u001b[36m0:00:00\u001b[0m\n",
            "\u001b[?25hDownloading jedi-0.19.2-py2.py3-none-any.whl (1.6 MB)\n",
            "\u001b[2K   \u001b[90m━━━━━━━━━━━━━━━━━━━━━━━━━━━━━━━━━━━━━━━━\u001b[0m \u001b[32m1.6/1.6 MB\u001b[0m \u001b[31m37.5 MB/s\u001b[0m eta \u001b[36m0:00:00\u001b[0m\n",
            "\u001b[?25hInstalling collected packages: jedi, pyvis, llama-index-utils-workflow\n",
            "Successfully installed jedi-0.19.2 llama-index-utils-workflow-0.3.0 pyvis-0.3.2\n"
          ]
        }
      ],
      "source": [
        "!pip install llama-index-utils-workflow\n"
      ]
    },
    {
      "cell_type": "code",
      "execution_count": 15,
      "metadata": {
        "colab": {
          "base_uri": "https://localhost:8080/"
        },
        "id": "JG4HaB2yolVQ",
        "outputId": "1c30e5e6-95cb-4dda-ac40-f8653298a768"
      },
      "outputs": [
        {
          "name": "stdout",
          "output_type": "stream",
          "text": [
            "<class 'NoneType'>\n",
            "<class '__main__.ToolCallEventResult'>\n",
            "<class '__main__.GatherToolsEvent'>\n",
            "<class 'llama_index.core.workflow.events.StopEvent'>\n",
            "<class '__main__.ToolCallEvent'>\n",
            "<class 'llama_index.core.workflow.events.StopEvent'>\n",
            "<class '__main__.InputEvent'>\n",
            "workflow_all_flows.html\n"
          ]
        }
      ],
      "source": [
        "#from llama_index.core.workflow import draw_all_possible_flows\n",
        "from llama_index.utils.workflow import draw_all_possible_flows\n",
        "draw_all_possible_flows(RouterOutputAgentWorkflow)"
      ]
    },
    {
      "cell_type": "code",
      "execution_count": 16,
      "metadata": {
        "colab": {
          "base_uri": "https://localhost:8080/",
          "height": 35
        },
        "id": "eEbrOAhbJshY",
        "outputId": "1dd15d6c-e604-4942-d1bf-8a335468896c"
      },
      "outputs": [
        {
          "name": "stdout",
          "output_type": "stream",
          "text": [
            "/content\n"
          ]
        },
        {
          "data": {
            "application/javascript": "\n    async function download(id, filename, size) {\n      if (!google.colab.kernel.accessAllowed) {\n        return;\n      }\n      const div = document.createElement('div');\n      const label = document.createElement('label');\n      label.textContent = `Downloading \"${filename}\": `;\n      div.appendChild(label);\n      const progress = document.createElement('progress');\n      progress.max = size;\n      div.appendChild(progress);\n      document.body.appendChild(div);\n\n      const buffers = [];\n      let downloaded = 0;\n\n      const channel = await google.colab.kernel.comms.open(id);\n      // Send a message to notify the kernel that we're ready.\n      channel.send({})\n\n      for await (const message of channel.messages) {\n        // Send a message to notify the kernel that we're ready.\n        channel.send({})\n        if (message.buffers) {\n          for (const buffer of message.buffers) {\n            buffers.push(buffer);\n            downloaded += buffer.byteLength;\n            progress.value = downloaded;\n          }\n        }\n      }\n      const blob = new Blob(buffers, {type: 'application/binary'});\n      const a = document.createElement('a');\n      a.href = window.URL.createObjectURL(blob);\n      a.download = filename;\n      div.appendChild(a);\n      a.click();\n      div.remove();\n    }\n  ",
            "text/plain": [
              "<IPython.core.display.Javascript object>"
            ]
          },
          "metadata": {},
          "output_type": "display_data"
        },
        {
          "data": {
            "application/javascript": "download(\"download_e1ae57b5-7e16-4aad-bb29-9d8d22d7fb09\", \"workflow_all_flows.html\", 6041)",
            "text/plain": [
              "<IPython.core.display.Javascript object>"
            ]
          },
          "metadata": {},
          "output_type": "display_data"
        }
      ],
      "source": [
        "#Donwload the workflow HTML file\n",
        "import os\n",
        "print(os.getcwd())\n",
        "from google.colab import files\n",
        "files.download(\"/content/workflow_all_flows.html\")\n"
      ]
    },
    {
      "cell_type": "markdown",
      "metadata": {
        "id": "MKZwYUNYolVQ"
      },
      "source": [
        "## Example Queries"
      ]
    },
    {
      "cell_type": "code",
      "execution_count": 17,
      "metadata": {
        "colab": {
          "base_uri": "https://localhost:8080/",
          "height": 314
        },
        "id": "W3jkSu5EolVQ",
        "outputId": "488777e7-a754-49eb-d843-8d5776bc81ca"
      },
      "outputs": [
        {
          "name": "stdout",
          "output_type": "stream",
          "text": [
            "Running step prepare_chat\n",
            "Step prepare_chat produced event InputEvent\n",
            "Running step chat\n",
            "Chat message: None\n",
            "Step chat produced event GatherToolsEvent\n",
            "Running step dispatch_calls\n",
            "Step dispatch_calls produced no event\n",
            "Running step call_tool\n",
            "Calling function sql_tool with msg {'input': 'SELECT city FROM city_stats ORDER BY population DESC LIMIT 1'}\n",
            "Step call_tool produced event ToolCallEventResult\n",
            "Running step gather\n",
            "Step gather produced event InputEvent\n",
            "Running step chat\n",
            "Chat message: New York City has the highest population among all cities in the USA.\n",
            "Step chat produced event StopEvent\n"
          ]
        },
        {
          "data": {
            "text/markdown": [
              "New York City has the highest population among all cities in the USA."
            ],
            "text/plain": [
              "<IPython.core.display.Markdown object>"
            ]
          },
          "metadata": {},
          "output_type": "display_data"
        }
      ],
      "source": [
        "from IPython.display import display, Markdown\n",
        "\n",
        "result = await wf.run(message=\"Which city has the highest population?\")\n",
        "display(Markdown(result))"
      ]
    },
    {
      "cell_type": "code",
      "execution_count": 18,
      "metadata": {
        "colab": {
          "base_uri": "https://localhost:8080/",
          "height": 314
        },
        "id": "_Q9f-o1_olVQ",
        "outputId": "1e56438f-36ee-467e-89e5-1b71bf95d2b8"
      },
      "outputs": [
        {
          "name": "stdout",
          "output_type": "stream",
          "text": [
            "Running step prepare_chat\n",
            "Step prepare_chat produced event InputEvent\n",
            "Running step chat\n",
            "Chat message: None\n",
            "Step chat produced event GatherToolsEvent\n",
            "Running step dispatch_calls\n",
            "Step dispatch_calls produced no event\n",
            "Running step call_tool\n",
            "Calling function llama_cloud_tool with msg {'input': 'What state is Houston located in?'}\n",
            "Step call_tool produced event ToolCallEventResult\n",
            "Running step gather\n",
            "Step gather produced event InputEvent\n",
            "Running step chat\n",
            "Chat message: Houston is located in the state of Texas.\n",
            "Step chat produced event StopEvent\n"
          ]
        },
        {
          "data": {
            "text/markdown": [
              "Houston is located in the state of Texas."
            ],
            "text/plain": [
              "<IPython.core.display.Markdown object>"
            ]
          },
          "metadata": {},
          "output_type": "display_data"
        }
      ],
      "source": [
        "result = await wf.run(message=\"What state is Houston located in?\")\n",
        "display(Markdown(result))"
      ]
    },
    {
      "cell_type": "code",
      "execution_count": 19,
      "metadata": {
        "colab": {
          "base_uri": "https://localhost:8080/",
          "height": 314
        },
        "id": "Y36tOGBSolVQ",
        "outputId": "69e729bd-76eb-49f7-8a4f-283b6d327089"
      },
      "outputs": [
        {
          "name": "stdout",
          "output_type": "stream",
          "text": [
            "Running step prepare_chat\n",
            "Step prepare_chat produced event InputEvent\n",
            "Running step chat\n",
            "Chat message: None\n",
            "Step chat produced event GatherToolsEvent\n",
            "Running step dispatch_calls\n",
            "Step dispatch_calls produced no event\n",
            "Running step call_tool\n",
            "Calling function llama_cloud_tool with msg {'input': 'Where is the Space Needle located?'}\n",
            "Step call_tool produced event ToolCallEventResult\n",
            "Running step gather\n",
            "Step gather produced event InputEvent\n",
            "Running step chat\n",
            "Chat message: The Space Needle is located in Seattle.\n",
            "Step chat produced event StopEvent\n"
          ]
        },
        {
          "data": {
            "text/markdown": [
              "The Space Needle is located in Seattle."
            ],
            "text/plain": [
              "<IPython.core.display.Markdown object>"
            ]
          },
          "metadata": {},
          "output_type": "display_data"
        }
      ],
      "source": [
        "result = await wf.run(message=\"Where is the Space Needle located?\")\n",
        "display(Markdown(result))"
      ]
    },
    {
      "cell_type": "code",
      "execution_count": 20,
      "metadata": {
        "colab": {
          "base_uri": "https://localhost:8080/",
          "height": 1000
        },
        "id": "yBQJFpHVolVQ",
        "outputId": "f966ab70-7d4f-4159-ee0a-a4134e52f7a1"
      },
      "outputs": [
        {
          "name": "stdout",
          "output_type": "stream",
          "text": [
            "Running step prepare_chat\n",
            "Step prepare_chat produced event InputEvent\n",
            "Running step chat\n",
            "Chat message: None\n",
            "Step chat produced event GatherToolsEvent\n",
            "Running step dispatch_calls\n",
            "Step dispatch_calls produced no event\n",
            "Running step call_tool\n",
            "Calling function llama_cloud_tool with msg {'input': 'List all of the places to visit in Miami'}\n",
            "Step call_tool produced event ToolCallEventResult\n",
            "Running step gather\n",
            "Step gather produced event InputEvent\n",
            "Running step chat\n",
            "Chat message: Here is a list of places to visit in Miami:\n",
            "1. South Beach\n",
            "2. Lincoln Road\n",
            "3. Bayside Marketplace\n",
            "4. Downtown Miami\n",
            "5. Brickell City Centre\n",
            "6. Art Deco District in Miami Beach\n",
            "7. Bayfront Park\n",
            "8. Museum Park\n",
            "9. Tropical Park\n",
            "10. Peacock Park\n",
            "11. Virginia Key\n",
            "12. Watson Island\n",
            "13. Zoo Miami\n",
            "14. Jungle Island\n",
            "15. Miami Seaquarium\n",
            "16. Monkey Jungle\n",
            "17. Coral Castle\n",
            "18. Charles Deering Estate\n",
            "19. Fairchild Tropical Botanic Garden\n",
            "20. Key Biscayne\n",
            "Step chat produced event StopEvent\n"
          ]
        },
        {
          "data": {
            "text/markdown": [
              "Here is a list of places to visit in Miami:\n",
              "1. South Beach\n",
              "2. Lincoln Road\n",
              "3. Bayside Marketplace\n",
              "4. Downtown Miami\n",
              "5. Brickell City Centre\n",
              "6. Art Deco District in Miami Beach\n",
              "7. Bayfront Park\n",
              "8. Museum Park\n",
              "9. Tropical Park\n",
              "10. Peacock Park\n",
              "11. Virginia Key\n",
              "12. Watson Island\n",
              "13. Zoo Miami\n",
              "14. Jungle Island\n",
              "15. Miami Seaquarium\n",
              "16. Monkey Jungle\n",
              "17. Coral Castle\n",
              "18. Charles Deering Estate\n",
              "19. Fairchild Tropical Botanic Garden\n",
              "20. Key Biscayne"
            ],
            "text/plain": [
              "<IPython.core.display.Markdown object>"
            ]
          },
          "metadata": {},
          "output_type": "display_data"
        }
      ],
      "source": [
        "result = await wf.run(message=\"List all of the places to visit in Miami.\")\n",
        "display(Markdown(result))"
      ]
    },
    {
      "cell_type": "code",
      "execution_count": null,
      "metadata": {
        "colab": {
          "base_uri": "https://localhost:8080/",
          "height": 379
        },
        "id": "ETVuUqLZolVQ",
        "outputId": "d223af3f-a2b0-4534-9e6c-4bdfaa4a0058"
      },
      "outputs": [
        {
          "name": "stdout",
          "output_type": "stream",
          "text": [
            "Running step prepare_chat\n",
            "Step prepare_chat produced event InputEvent\n",
            "Running step chat\n",
            "Chat message: None\n",
            "Step chat produced event GatherToolsEvent\n",
            "Running step dispatch_calls\n",
            "Step dispatch_calls produced no event\n",
            "Running step call_tool\n",
            "Calling function llama_cloud_tool with msg {'input': 'How do people in Chicago get around?'}\n",
            "Step call_tool produced event ToolCallEventResult\n",
            "Running step gather\n",
            "Step gather produced event InputEvent\n",
            "Running step chat\n",
            "Chat message: People in Chicago get around using various transportation options such as public transit systems like the Chicago Transit Authority (CTA) buses and trains, Metra commuter rail, and Pace buses. Additionally, residents can use bike-sharing systems like Divvy and electric scooter-sharing programs. Chicago also has a well-connected network of expressways and highways for commuters who prefer to drive. The city is a major transportation hub with access to passenger and freight rail services, as well as two major airports for air travel.\n",
            "Step chat produced event StopEvent\n"
          ]
        },
        {
          "data": {
            "text/markdown": [
              "People in Chicago get around using various transportation options such as public transit systems like the Chicago Transit Authority (CTA) buses and trains, Metra commuter rail, and Pace buses. Additionally, residents can use bike-sharing systems like Divvy and electric scooter-sharing programs. Chicago also has a well-connected network of expressways and highways for commuters who prefer to drive. The city is a major transportation hub with access to passenger and freight rail services, as well as two major airports for air travel."
            ],
            "text/plain": [
              "<IPython.core.display.Markdown object>"
            ]
          },
          "metadata": {},
          "output_type": "display_data"
        }
      ],
      "source": [
        "result = await wf.run(message=\"How do people in Chicago get around?\")\n",
        "display(Markdown(result))"
      ]
    },
    {
      "cell_type": "code",
      "execution_count": null,
      "metadata": {
        "colab": {
          "base_uri": "https://localhost:8080/",
          "height": 307
        },
        "id": "we7bVTNZolVQ",
        "outputId": "0ac70d0d-b17c-436f-ecb1-298095e082c4"
      },
      "outputs": [
        {
          "name": "stdout",
          "output_type": "stream",
          "text": [
            "Running step prepare_chat\n",
            "Step prepare_chat produced event InputEvent\n",
            "Running step chat\n",
            "Chat message: None\n",
            "Step chat produced event GatherToolsEvent\n",
            "Running step dispatch_calls\n",
            "Step dispatch_calls produced no event\n",
            "Running step call_tool\n",
            "Calling function llama_cloud_tool with msg {'input': 'What is the historical name of Los Angeles?'}\n",
            "Step call_tool produced event ToolCallEventResult\n",
            "Running step gather\n",
            "Step gather produced event InputEvent\n",
            "Running step chat\n",
            "Chat message: The historical name of Los Angeles is El Pueblo de Nuestra Señora la Reina de los Ángeles.\n",
            "Step chat produced event StopEvent\n"
          ]
        },
        {
          "data": {
            "text/markdown": [
              "The historical name of Los Angeles is El Pueblo de Nuestra Señora la Reina de los Ángeles."
            ],
            "text/plain": [
              "<IPython.core.display.Markdown object>"
            ]
          },
          "metadata": {},
          "output_type": "display_data"
        }
      ],
      "source": [
        "result = await wf.run(message=\"What is the historical name of Los Angeles?\")\n",
        "display(Markdown(result))"
      ]
    },
    {
      "cell_type": "code",
      "execution_count": null,
      "metadata": {
        "id": "v89m-7HIolVR"
      },
      "outputs": [],
      "source": []
    },
    {
      "cell_type": "code",
      "execution_count": null,
      "metadata": {
        "id": "2dXZpgPColVR"
      },
      "outputs": [],
      "source": []
    }
  ],
  "metadata": {
    "colab": {
      "provenance": []
    },
    "kernelspec": {
      "display_name": "llamacloud-demo",
      "language": "python",
      "name": "llamacloud-demo"
    },
    "language_info": {
      "codemirror_mode": {
        "name": "ipython",
        "version": 3
      },
      "file_extension": ".py",
      "mimetype": "text/x-python",
      "name": "python",
      "nbconvert_exporter": "python",
      "pygments_lexer": "ipython3",
      "version": "3.10.8"
    }
  },
  "nbformat": 4,
  "nbformat_minor": 0
}
