{
 "cells": [
  {
   "cell_type": "code",
   "execution_count": 1,
   "metadata": {},
   "outputs": [],
   "source": [
    "import os"
   ]
  },
  {
   "cell_type": "code",
   "execution_count": 2,
   "metadata": {},
   "outputs": [
    {
     "data": {
      "text/plain": [
       "True"
      ]
     },
     "execution_count": 2,
     "metadata": {},
     "output_type": "execute_result"
    }
   ],
   "source": [
    "from dotenv import load_dotenv\n",
    "load_dotenv()"
   ]
  },
  {
   "cell_type": "code",
   "execution_count": 3,
   "metadata": {},
   "outputs": [],
   "source": [
    "os.environ[\"groq_api_key\"] = os.getenv(\"groq_api_key\")"
   ]
  },
  {
   "cell_type": "code",
   "execution_count": 4,
   "metadata": {},
   "outputs": [],
   "source": [
    "from langchain_groq import ChatGroq\n",
    "llm=ChatGroq(model=\"qwen-2.5-32b\")"
   ]
  },
  {
   "cell_type": "code",
   "execution_count": 5,
   "metadata": {},
   "outputs": [
    {
     "data": {
      "text/plain": [
       "AIMessage(content=\"Hello! How can I assist you today? Feel free to ask about anything you're curious about or need help with.\", additional_kwargs={}, response_metadata={'token_usage': {'completion_tokens': 25, 'prompt_tokens': 31, 'total_tokens': 56, 'completion_time': 0.063770911, 'prompt_time': 0.003910845, 'queue_time': 0.02197085, 'total_time': 0.067681756}, 'model_name': 'qwen-2.5-32b', 'system_fingerprint': 'fp_7b9ecfcd5f', 'finish_reason': 'stop', 'logprobs': None}, id='run-266d6baa-10c9-4267-b587-5b51e29b49f6-0', usage_metadata={'input_tokens': 31, 'output_tokens': 25, 'total_tokens': 56})"
      ]
     },
     "execution_count": 5,
     "metadata": {},
     "output_type": "execute_result"
    }
   ],
   "source": [
    "llm.invoke(\"hii\")"
   ]
  },
  {
   "cell_type": "code",
   "execution_count": 6,
   "metadata": {},
   "outputs": [],
   "source": [
    "from langchain_community.document_loaders import PyPDFLoader"
   ]
  },
  {
   "cell_type": "code",
   "execution_count": 7,
   "metadata": {},
   "outputs": [
    {
     "data": {
      "text/plain": [
       "2"
      ]
     },
     "execution_count": 7,
     "metadata": {},
     "output_type": "execute_result"
    }
   ],
   "source": [
    "file_path = r\"C:\\Users\\ROHIT\\OneDrive\\Desktop\\PN\\RohitVyavahare_DataScientist(AI_Engineer)_Resume.pdf\"\n",
    "loader = PyPDFLoader(file_path)\n",
    "docs=loader.load()\n",
    "len(docs)"
   ]
  },
  {
   "cell_type": "code",
   "execution_count": 8,
   "metadata": {},
   "outputs": [],
   "source": [
    "from langchain_huggingface import HuggingFaceEmbeddings\n",
    "from langchain_text_splitters import RecursiveCharacterTextSplitter"
   ]
  },
  {
   "cell_type": "code",
   "execution_count": 9,
   "metadata": {},
   "outputs": [],
   "source": [
    "text_splitter = RecursiveCharacterTextSplitter(chunk_size=1000,chunk_overlap=50)\n",
    "splits=text_splitter.split_documents(docs)"
   ]
  },
  {
   "cell_type": "code",
   "execution_count": 10,
   "metadata": {},
   "outputs": [
    {
     "name": "stderr",
     "output_type": "stream",
     "text": [
      "d:\\Users\\ROHIT\\anaconda3\\envs\\genai\\lib\\site-packages\\tqdm\\auto.py:21: TqdmWarning: IProgress not found. Please update jupyter and ipywidgets. See https://ipywidgets.readthedocs.io/en/stable/user_install.html\n",
      "  from .autonotebook import tqdm as notebook_tqdm\n"
     ]
    }
   ],
   "source": [
    "embeddings=HuggingFaceEmbeddings(model_name=\"all-MiniLM-L6-v2\")"
   ]
  },
  {
   "cell_type": "code",
   "execution_count": 11,
   "metadata": {},
   "outputs": [],
   "source": [
    "from langchain_qdrant import QdrantVectorStore\n",
    "from qdrant_client import QdrantClient\n",
    "from qdrant_client.http.models import Distance, VectorParams\n"
   ]
  },
  {
   "cell_type": "code",
   "execution_count": 12,
   "metadata": {},
   "outputs": [
    {
     "data": {
      "text/plain": [
       "True"
      ]
     },
     "execution_count": 12,
     "metadata": {},
     "output_type": "execute_result"
    }
   ],
   "source": [
    "client = QdrantClient(\":memory:\")\n",
    "\n",
    "client.create_collection(\n",
    "    collection_name=\"demo_collection\",\n",
    "    vectors_config=VectorParams(size=384, distance=Distance.COSINE),\n",
    ")"
   ]
  },
  {
   "cell_type": "code",
   "execution_count": 13,
   "metadata": {},
   "outputs": [],
   "source": [
    "vector_store = QdrantVectorStore(\n",
    "    client=client,\n",
    "    collection_name=\"demo_collection\",\n",
    "    embedding=embeddings\n",
    ")"
   ]
  },
  {
   "cell_type": "code",
   "execution_count": 14,
   "metadata": {},
   "outputs": [
    {
     "data": {
      "text/plain": [
       "['446eb7db34ae42a288dc983bbb1ade96',\n",
       " '770293d19bd848f5a5e159f9dbd2cfa9',\n",
       " '61d0bc9575924bf58467616deef8cb42',\n",
       " '14719f9e3b2f4d07adee244539f28815',\n",
       " '286b3803f11a4090a2948be22143ec53',\n",
       " '62fd8bbfcce0408e9066e306dadb8d98',\n",
       " 'f3dade7f35c642918bedae82dad33588']"
      ]
     },
     "execution_count": 14,
     "metadata": {},
     "output_type": "execute_result"
    }
   ],
   "source": [
    "vector_store.add_documents(documents=splits)"
   ]
  },
  {
   "cell_type": "code",
   "execution_count": 15,
   "metadata": {},
   "outputs": [
    {
     "data": {
      "text/plain": [
       "[Document(metadata={'source': 'C:\\\\Users\\\\ROHIT\\\\OneDrive\\\\Desktop\\\\PN\\\\RohitVyavahare_DataScientist(AI_Engineer)_Resume.pdf', 'page': 0, '_id': '770293d19bd848f5a5e159f9dbd2cfa9', '_collection_name': 'demo_collection'}, page_content='• Machine Learning: Strong knowledge of supervised and unsupervised learning algorithms, including SVMs, Logistic \\nRegression, Linear Regression, and Clustering. Experienced with machine learning libraries such as Scikit-Learn. \\n• Deep Learning: Hands-on experience with deep learning techniques including CNNs, RNNs, LSTMs, Encoder-\\nDecoder architectures, Transformers, and BERT. Familiar with deep learning frameworks such as TensorFlow, \\nKeras, and PyTorch. \\n• Natural Language Processing (NLP): Skilled in applying NLP techniques to analyze and extract insights from text \\ndata. Proficient in using NLP libraries such as NLTK and working with GPT models for text generation and \\nunderstanding. \\n• API Development: Proficient in building and deploying APIs using FLASK & FastAPI \\n• Generative AI (GenAI): Experienced with GPT, LLaMA, Gemma, Mistral, and Ollama models. Proficient in Hugging'),\n",
       " Document(metadata={'source': 'C:\\\\Users\\\\ROHIT\\\\OneDrive\\\\Desktop\\\\PN\\\\RohitVyavahare_DataScientist(AI_Engineer)_Resume.pdf', 'page': 0, '_id': '446eb7db34ae42a288dc983bbb1ade96', '_collection_name': 'demo_collection'}, page_content='ROHIT VYAVAHARE \\nData Scientist/AI Engineer     \\nrohitvyavahare2001@gmail.com                    Nashik,Maharashtra,India                    +917262959787 \\nLinkedin       - https://www.linkedin.com/in/rohitvyavahare2001/         GitHub      - https://github.com/RohitVyavahare2001 \\n    \\nSUMMARY \\nAs a Data Scientist/AI Engineer, I specialize in converting complex data into actionable insights to drive business outcomes. \\nWith expertise in machine learning, deep learning, NLP, and Generative AI, I deliver impactful solutions. Proficient in SQL, \\nPython, and advanced data visualization, I leverage my skills in statistics, data mining, and LLMs to communicate findings \\nand enable data-driven decisions. \\n________________________________________________________________________________________________________________ _________________________________ \\nSKILLS \\n• Programming languages: Proficiency in Python and SQL for data manipulation and analysis.'),\n",
       " Document(metadata={'source': 'C:\\\\Users\\\\ROHIT\\\\OneDrive\\\\Desktop\\\\PN\\\\RohitVyavahare_DataScientist(AI_Engineer)_Resume.pdf', 'page': 1, '_id': '62fd8bbfcce0408e9066e306dadb8d98', '_collection_name': 'demo_collection'}, page_content='• Python for Data Science (Corise) \\n• Generative AI (Euron) \\n_____________________________________________________________________________________________________________________________ ____________________ \\nEXPERIENCE \\nNotable Accomplishments: \\n• YouTube Success (January 2019 - May 2020): Self-Employment - Content Creation, Achieved over 100,000 views \\non YouTube, showcasing the ability to engage and captivate a large audience.  \\n \\n• Cost Optimization Achievement (January 2022 - March 2022): Full-Time cum Internship - Aashirwad Dwarka \\nDevelopers: Successfully fulfilled a dual role encompassing full-time employment and an internship, showcasing \\nexceptional skills in cost management and achieving significant reductions in material costs while upholding the \\nquality standards of various projects. \\n_____________________________________________________________________________________________________________________________ ____________________ \\nPERSONAL DETAILS \\n• Gender: Male'),\n",
       " Document(metadata={'source': 'C:\\\\Users\\\\ROHIT\\\\OneDrive\\\\Desktop\\\\PN\\\\RohitVyavahare_DataScientist(AI_Engineer)_Resume.pdf', 'page': 0, '_id': '61d0bc9575924bf58467616deef8cb42', '_collection_name': 'demo_collection'}, page_content='Face for deployment and fine-tuning. Hands-on with LangChain, LangGraph, and GroqAPI for AI workflows. Skilled \\nin FAISS, Chroma, and Neo4j for vector search and graph storage. Expertise in RAG techniques, including embedding, \\nvector stores, and fine-tuning methods like LoRA and QLoRA. \\n_____________________________________________________________________________________________________________________________ ____________________ \\nPROJECTS \\n• Insurance Claim Prediction Model: Developed a model to predict customer insurance claims using demographic \\nand behavioral data. Utilized classification algorithms such as logistic regression, decision trees, and random \\nforests to build and evaluate models. Improved model performance through feature engineering and data  \\npreprocessing techniques. Achieved 97% accuracy on the test set using the decision tree algorithm. Link \\n• RAG Application for E-commerce Data:Processed e-commerce JSON data into a readable format. Used LangChain')]"
      ]
     },
     "execution_count": 15,
     "metadata": {},
     "output_type": "execute_result"
    }
   ],
   "source": [
    "retreiver=vector_store.as_retriever()\n",
    "retreiver.invoke(\"skills\")"
   ]
  },
  {
   "cell_type": "code",
   "execution_count": 16,
   "metadata": {},
   "outputs": [
    {
     "name": "stdout",
     "output_type": "stream",
     "text": [
      "* • Machine Learning: Strong knowledge of supervised and unsupervised learning algorithms, including SVMs, Logistic \n",
      "Regression, Linear Regression, and Clustering. Experienced with machine learning libraries such as Scikit-Learn. \n",
      "• Deep Learning: Hands-on experience with deep learning techniques including CNNs, RNNs, LSTMs, Encoder-\n",
      "Decoder architectures, Transformers, and BERT. Familiar with deep learning frameworks such as TensorFlow, \n",
      "Keras, and PyTorch. \n",
      "• Natural Language Processing (NLP): Skilled in applying NLP techniques to analyze and extract insights from text \n",
      "data. Proficient in using NLP libraries such as NLTK and working with GPT models for text generation and \n",
      "understanding. \n",
      "• API Development: Proficient in building and deploying APIs using FLASK & FastAPI \n",
      "• Generative AI (GenAI): Experienced with GPT, LLaMA, Gemma, Mistral, and Ollama models. Proficient in Hugging [{'source': 'C:\\\\Users\\\\ROHIT\\\\OneDrive\\\\Desktop\\\\PN\\\\RohitVyavahare_DataScientist(AI_Engineer)_Resume.pdf', 'page': 0, '_id': '770293d19bd848f5a5e159f9dbd2cfa9', '_collection_name': 'demo_collection'}]\n",
      "* ROHIT VYAVAHARE \n",
      "Data Scientist/AI Engineer     \n",
      "rohitvyavahare2001@gmail.com                    Nashik,Maharashtra,India                    +917262959787 \n",
      "Linkedin       - https://www.linkedin.com/in/rohitvyavahare2001/         GitHub      - https://github.com/RohitVyavahare2001 \n",
      "    \n",
      "SUMMARY \n",
      "As a Data Scientist/AI Engineer, I specialize in converting complex data into actionable insights to drive business outcomes. \n",
      "With expertise in machine learning, deep learning, NLP, and Generative AI, I deliver impactful solutions. Proficient in SQL, \n",
      "Python, and advanced data visualization, I leverage my skills in statistics, data mining, and LLMs to communicate findings \n",
      "and enable data-driven decisions. \n",
      "________________________________________________________________________________________________________________ _________________________________ \n",
      "SKILLS \n",
      "• Programming languages: Proficiency in Python and SQL for data manipulation and analysis. [{'source': 'C:\\\\Users\\\\ROHIT\\\\OneDrive\\\\Desktop\\\\PN\\\\RohitVyavahare_DataScientist(AI_Engineer)_Resume.pdf', 'page': 0, '_id': '446eb7db34ae42a288dc983bbb1ade96', '_collection_name': 'demo_collection'}]\n"
     ]
    }
   ],
   "source": [
    "results = vector_store.similarity_search(\n",
    "    \"skills\", k=2\n",
    ")\n",
    "for res in results:\n",
    "    print(f\"* {res.page_content} [{res.metadata}]\")"
   ]
  },
  {
   "cell_type": "code",
   "execution_count": 17,
   "metadata": {},
   "outputs": [],
   "source": [
    "from langchain_core.prompts import ChatPromptTemplate\n",
    "system_prompt = (\n",
    "                \"You are an assistant for question-answering tasks. \"\n",
    "                \"Use the following pieces of retrieved context to answer \"\n",
    "                \"the question. If you don't know the answer, say that you \"\n",
    "                \"don't know. Use three sentences maximum and keep the \"\n",
    "                \"answer concise.\"\n",
    "                \"{context}\")"
   ]
  },
  {
   "cell_type": "code",
   "execution_count": 18,
   "metadata": {},
   "outputs": [],
   "source": [
    "prompt=ChatPromptTemplate.from_messages(\n",
    "    [\n",
    "    (\"system\", system_prompt),\n",
    "    (\"user\" ,\"{input}\")\n",
    "])"
   ]
  },
  {
   "cell_type": "code",
   "execution_count": 19,
   "metadata": {},
   "outputs": [],
   "source": [
    "from langchain.chains.combine_documents import create_stuff_documents_chain\n",
    "from langchain.chains import create_retrieval_chain"
   ]
  },
  {
   "cell_type": "code",
   "execution_count": 20,
   "metadata": {},
   "outputs": [
    {
     "data": {
      "text/plain": [
       "'Rohit Vyavahare is a Data Scientist/AI Engineer with expertise in machine learning, deep learning, NLP, and Generative AI. He holds a Bachelor of Engineering in Civil Engineering from Pune University and has certifications in Full Stack Data Science and Machine Learning.'"
      ]
     },
     "execution_count": 20,
     "metadata": {},
     "output_type": "execute_result"
    }
   ],
   "source": [
    "qa_chain= create_stuff_documents_chain(llm,prompt)\n",
    "chain=create_retrieval_chain(retreiver,qa_chain)\n",
    "result=chain.invoke({\"input\": \"who is rohit\"})\n",
    "result[\"answer\"]"
   ]
  },
  {
   "cell_type": "code",
   "execution_count": 21,
   "metadata": {},
   "outputs": [
    {
     "name": "stdout",
     "output_type": "stream",
     "text": [
      "{'source': 'C:\\\\Users\\\\ROHIT\\\\OneDrive\\\\Desktop\\\\PN\\\\RohitVyavahare_DataScientist(AI_Engineer)_Resume.pdf', 'page': 0, '_id': '446eb7db34ae42a288dc983bbb1ade96', '_collection_name': 'demo_collection'}\n"
     ]
    }
   ],
   "source": [
    "print(result[\"context\"][0].metadata)"
   ]
  },
  {
   "cell_type": "code",
   "execution_count": 24,
   "metadata": {},
   "outputs": [
    {
     "name": "stdout",
     "output_type": "stream",
     "text": [
      "\n",
      "\n",
      "\u001b[1m> Entering new StuffDocumentsChain chain...\u001b[0m\n",
      "\n",
      "\n",
      "\u001b[1m> Entering new LLMChain chain...\u001b[0m\n",
      "Prompt after formatting:\n",
      "\u001b[32;1m\u001b[1;3mSystem: Use the following pieces of context to answer the user's question. \n",
      "If you don't know the answer, just say that you don't know, don't try to make up an answer.\n",
      "----------------\n",
      "ROHIT VYAVAHARE \n",
      "Data Scientist/AI Engineer     \n",
      "rohitvyavahare2001@gmail.com                    Nashik,Maharashtra,India                    +917262959787 \n",
      "Linkedin       - https://www.linkedin.com/in/rohitvyavahare2001/         GitHub      - https://github.com/RohitVyavahare2001 \n",
      "    \n",
      "SUMMARY \n",
      "As a Data Scientist/AI Engineer, I specialize in converting complex data into actionable insights to drive business outcomes. \n",
      "With expertise in machine learning, deep learning, NLP, and Generative AI, I deliver impactful solutions. Proficient in SQL, \n",
      "Python, and advanced data visualization, I leverage my skills in statistics, data mining, and LLMs to communicate findings \n",
      "and enable data-driven decisions. \n",
      "________________________________________________________________________________________________________________ _________________________________ \n",
      "SKILLS \n",
      "• Programming languages: Proficiency in Python and SQL for data manipulation and analysis.\n",
      "\n",
      "___________________________________________________________________________________________________________________________ ______________________ \n",
      "EDUCATION \n",
      " \n",
      "• Bachelor of Engineering (BE) in Civil Engineering, Pune University, 9.10 CGPA, June 2020 - June 2023 \n",
      "o Secured first rank in academics \n",
      " \n",
      "• Diploma in Civil Engineering, MSBTE, 81%, June 2017 - June 2020 \n",
      "o Admitted to the Tuition Fee Waiver Scheme (TFWS) based on exceptional academic \n",
      "performance in 10th grade \n",
      "o Participated in several inter-college events \n",
      " \n",
      "• SSC, Horizon Academy, 82.20%, June 2016 - June 2017 \n",
      "o Award for 100% attendance \n",
      "o Received Exemplary Student Award \n",
      "_____________________________________________________________________________________________________________________________ ____________________ \n",
      "CERTIFICATIONS \n",
      "• Full Stack Data Science & Machine Learning Course (Ekeeda School of Data Science) \n",
      "• Geoprocessing using Python (Indian Space Research Organization (ISRO) )\n",
      "\n",
      "PERSONAL DETAILS \n",
      "• Gender: Male  \n",
      "• Date of Birth: 15/07/2001  \n",
      "• Nationality: Indian  \n",
      "• Marital Status: Single  \n",
      "• Languages: English, Hindi, Marathi \n",
      "Available for immediate joining. Willing to relocate.\n",
      "\n",
      "• Python for Data Science (Corise) \n",
      "• Generative AI (Euron) \n",
      "_____________________________________________________________________________________________________________________________ ____________________ \n",
      "EXPERIENCE \n",
      "Notable Accomplishments: \n",
      "• YouTube Success (January 2019 - May 2020): Self-Employment - Content Creation, Achieved over 100,000 views \n",
      "on YouTube, showcasing the ability to engage and captivate a large audience.  \n",
      " \n",
      "• Cost Optimization Achievement (January 2022 - March 2022): Full-Time cum Internship - Aashirwad Dwarka \n",
      "Developers: Successfully fulfilled a dual role encompassing full-time employment and an internship, showcasing \n",
      "exceptional skills in cost management and achieving significant reductions in material costs while upholding the \n",
      "quality standards of various projects. \n",
      "_____________________________________________________________________________________________________________________________ ____________________ \n",
      "PERSONAL DETAILS \n",
      "• Gender: Male\n",
      "Human: who is rohit?\u001b[0m\n",
      "\n",
      "\u001b[1m> Finished chain.\u001b[0m\n",
      "\n",
      "\u001b[1m> Finished chain.\u001b[0m\n",
      "Rohit Vyavahare is a Data Scientist and AI Engineer with expertise in machine learning, deep learning, NLP, and Generative AI. He holds a Bachelor of Engineering (BE) in Civil Engineering from Pune University, where he secured the first rank academically. Rohit is proficient in Python and SQL, and he has experience in data manipulation, analysis, and advanced data visualization. He has also completed notable certifications such as the Full Stack Data Science & Machine Learning Course from Ekeeda School of Data Science and Geoprocessing using Python from ISRO. Rohit has a background in content creation, having achieved over 100,000 views on his YouTube channel. He is available for immediate joining and is willing to relocate.\n",
      "\n",
      "\n",
      "\u001b[1m> Entering new LLMChain chain...\u001b[0m\n",
      "Prompt after formatting:\n",
      "\u001b[32;1m\u001b[1;3mGiven the following conversation and a follow up question, rephrase the follow up question to be a standalone question, in its original language.\n",
      "\n",
      "Chat History:\n",
      "\n",
      "Human: who is rohit?\n",
      "Assistant: Rohit Vyavahare is a Data Scientist and AI Engineer with expertise in machine learning, deep learning, NLP, and Generative AI. He holds a Bachelor of Engineering (BE) in Civil Engineering from Pune University, where he secured the first rank academically. Rohit is proficient in Python and SQL, and he has experience in data manipulation, analysis, and advanced data visualization. He has also completed notable certifications such as the Full Stack Data Science & Machine Learning Course from Ekeeda School of Data Science and Geoprocessing using Python from ISRO. Rohit has a background in content creation, having achieved over 100,000 views on his YouTube channel. He is available for immediate joining and is willing to relocate.\n",
      "Follow Up Input: what are his skills?\n",
      "Standalone question:\u001b[0m\n",
      "\n",
      "\u001b[1m> Finished chain.\u001b[0m\n",
      "\n",
      "\n",
      "\u001b[1m> Entering new StuffDocumentsChain chain...\u001b[0m\n",
      "\n",
      "\n",
      "\u001b[1m> Entering new LLMChain chain...\u001b[0m\n",
      "Prompt after formatting:\n",
      "\u001b[32;1m\u001b[1;3mSystem: Use the following pieces of context to answer the user's question. \n",
      "If you don't know the answer, just say that you don't know, don't try to make up an answer.\n",
      "----------------\n",
      "ROHIT VYAVAHARE \n",
      "Data Scientist/AI Engineer     \n",
      "rohitvyavahare2001@gmail.com                    Nashik,Maharashtra,India                    +917262959787 \n",
      "Linkedin       - https://www.linkedin.com/in/rohitvyavahare2001/         GitHub      - https://github.com/RohitVyavahare2001 \n",
      "    \n",
      "SUMMARY \n",
      "As a Data Scientist/AI Engineer, I specialize in converting complex data into actionable insights to drive business outcomes. \n",
      "With expertise in machine learning, deep learning, NLP, and Generative AI, I deliver impactful solutions. Proficient in SQL, \n",
      "Python, and advanced data visualization, I leverage my skills in statistics, data mining, and LLMs to communicate findings \n",
      "and enable data-driven decisions. \n",
      "________________________________________________________________________________________________________________ _________________________________ \n",
      "SKILLS \n",
      "• Programming languages: Proficiency in Python and SQL for data manipulation and analysis.\n",
      "\n",
      "• Machine Learning: Strong knowledge of supervised and unsupervised learning algorithms, including SVMs, Logistic \n",
      "Regression, Linear Regression, and Clustering. Experienced with machine learning libraries such as Scikit-Learn. \n",
      "• Deep Learning: Hands-on experience with deep learning techniques including CNNs, RNNs, LSTMs, Encoder-\n",
      "Decoder architectures, Transformers, and BERT. Familiar with deep learning frameworks such as TensorFlow, \n",
      "Keras, and PyTorch. \n",
      "• Natural Language Processing (NLP): Skilled in applying NLP techniques to analyze and extract insights from text \n",
      "data. Proficient in using NLP libraries such as NLTK and working with GPT models for text generation and \n",
      "understanding. \n",
      "• API Development: Proficient in building and deploying APIs using FLASK & FastAPI \n",
      "• Generative AI (GenAI): Experienced with GPT, LLaMA, Gemma, Mistral, and Ollama models. Proficient in Hugging\n",
      "\n",
      "PERSONAL DETAILS \n",
      "• Gender: Male  \n",
      "• Date of Birth: 15/07/2001  \n",
      "• Nationality: Indian  \n",
      "• Marital Status: Single  \n",
      "• Languages: English, Hindi, Marathi \n",
      "Available for immediate joining. Willing to relocate.\n",
      "\n",
      "• Python for Data Science (Corise) \n",
      "• Generative AI (Euron) \n",
      "_____________________________________________________________________________________________________________________________ ____________________ \n",
      "EXPERIENCE \n",
      "Notable Accomplishments: \n",
      "• YouTube Success (January 2019 - May 2020): Self-Employment - Content Creation, Achieved over 100,000 views \n",
      "on YouTube, showcasing the ability to engage and captivate a large audience.  \n",
      " \n",
      "• Cost Optimization Achievement (January 2022 - March 2022): Full-Time cum Internship - Aashirwad Dwarka \n",
      "Developers: Successfully fulfilled a dual role encompassing full-time employment and an internship, showcasing \n",
      "exceptional skills in cost management and achieving significant reductions in material costs while upholding the \n",
      "quality standards of various projects. \n",
      "_____________________________________________________________________________________________________________________________ ____________________ \n",
      "PERSONAL DETAILS \n",
      "• Gender: Male\n",
      "Human: What skills does Rohit Vyavahare possess?\u001b[0m\n",
      "\n",
      "\u001b[1m> Finished chain.\u001b[0m\n",
      "\n",
      "\u001b[1m> Finished chain.\u001b[0m\n",
      "Rohit Vyavahare possesses the following skills:\n",
      "\n",
      "- **Programming Languages**: Proficiency in Python and SQL for data manipulation and analysis.\n",
      "- **Machine Learning**: Strong knowledge of supervised and unsupervised learning algorithms (SVMs, Logistic Regression, Linear Regression, and Clustering). Experienced with Scikit-Learn.\n",
      "- **Deep Learning**: Hands-on experience with CNNs, RNNs, LSTMs, Encoder-Decoder architectures, Transformers, and BERT. Familiar with TensorFlow, Keras, and PyTorch.\n",
      "- **Natural Language Processing (NLP)**: Skilled in applying NLP techniques to analyze and extract insights from text data. Proficient with NLTK and working with GPT models.\n",
      "- **API Development**: Proficient in building and deploying APIs using FLASK & FastAPI.\n",
      "- **Generative AI (GenAI)**: Experienced with GPT, LLaMA, Gemma, Mistral, and Ollama models. Proficient in HuggingFace. \n",
      "\n",
      "Additionally, he has personal and professional attributes including content creation and cost optimization skills.\n"
     ]
    }
   ],
   "source": [
    "from langchain.memory import ConversationBufferMemory\n",
    "from langchain_core.messages import AIMessage, HumanMessage\n",
    "from langchain.chains import ConversationalRetrievalChain\n",
    "\n",
    "# Create memory\n",
    "memory = ConversationBufferMemory(\n",
    "    memory_key=\"chat_history\",\n",
    "    return_messages=True\n",
    ")\n",
    "\n",
    "# Create the conversational chain\n",
    "chain = ConversationalRetrievalChain.from_llm(\n",
    "    llm=llm,\n",
    "    retriever=retreiver,\n",
    "    memory=memory,\n",
    "    verbose=True\n",
    ")\n",
    "\n",
    "# Example usage with memory\n",
    "result = chain.invoke({\"question\": \"who is rohit?\"})\n",
    "print(result[\"answer\"])\n",
    "\n",
    "# Ask follow-up question\n",
    "result = chain.invoke({\"question\": \"what are his skills?\"})\n",
    "print(result[\"answer\"])"
   ]
  },
  {
   "cell_type": "code",
   "execution_count": null,
   "metadata": {},
   "outputs": [],
   "source": []
  }
 ],
 "metadata": {
  "kernelspec": {
   "display_name": "genai",
   "language": "python",
   "name": "python3"
  },
  "language_info": {
   "codemirror_mode": {
    "name": "ipython",
    "version": 3
   },
   "file_extension": ".py",
   "mimetype": "text/x-python",
   "name": "python",
   "nbconvert_exporter": "python",
   "pygments_lexer": "ipython3",
   "version": "3.10.16"
  }
 },
 "nbformat": 4,
 "nbformat_minor": 2
}
